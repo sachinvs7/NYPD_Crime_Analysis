{
 "cells": [
  {
   "cell_type": "code",
   "execution_count": 36,
   "metadata": {
    "_cell_guid": "b1076dfc-b9ad-4769-8c92-a6c4dae69d19",
    "_uuid": "8f2839f25d086af736a60e9eeb907d3b93b6e0e5",
    "execution": {
     "iopub.execute_input": "2022-09-16T02:45:39.743962Z",
     "iopub.status.busy": "2022-09-16T02:45:39.743090Z",
     "iopub.status.idle": "2022-09-16T02:45:40.877758Z",
     "shell.execute_reply": "2022-09-16T02:45:40.876783Z",
     "shell.execute_reply.started": "2022-09-16T02:45:39.743919Z"
    }
   },
   "outputs": [],
   "source": [
    "import pandas as pd\n",
    "import numpy as np\n",
    "pd.options.display.max_rows = None\n",
    "pd.options.display.max_columns = None\n",
    "import matplotlib.pyplot as plt\n",
    "from sklearn.cluster import KMeans\n",
    "import seaborn as sns\n",
    "from sklearn.model_selection import train_test_split\n",
    "from xgboost import XGBClassifier\n",
    "import lightgbm as lgb\n",
    "import matplotlib.pyplot as plt\n",
    "import warnings\n",
    "warnings.simplefilter(action='ignore', category=FutureWarning)\n",
    "from sklearn.metrics import accuracy_score"
   ]
  },
  {
   "cell_type": "code",
   "execution_count": 37,
   "metadata": {
    "execution": {
     "iopub.execute_input": "2022-09-16T02:45:40.880143Z",
     "iopub.status.busy": "2022-09-16T02:45:40.879814Z",
     "iopub.status.idle": "2022-09-16T02:45:41.043576Z",
     "shell.execute_reply": "2022-09-16T02:45:41.042737Z",
     "shell.execute_reply.started": "2022-09-16T02:45:40.880089Z"
    }
   },
   "outputs": [],
   "source": [
    "data = pd.read_csv('NYPD_Shooting_Incident_Data__Historic_.csv')"
   ]
  },
  {
   "cell_type": "code",
   "execution_count": 38,
   "metadata": {
    "execution": {
     "iopub.execute_input": "2022-09-16T02:45:41.044924Z",
     "iopub.status.busy": "2022-09-16T02:45:41.044715Z",
     "iopub.status.idle": "2022-09-16T02:45:41.052267Z",
     "shell.execute_reply": "2022-09-16T02:45:41.051397Z",
     "shell.execute_reply.started": "2022-09-16T02:45:41.044897Z"
    }
   },
   "outputs": [
    {
     "data": {
      "text/plain": [
       "(23585, 19)"
      ]
     },
     "execution_count": 38,
     "metadata": {},
     "output_type": "execute_result"
    }
   ],
   "source": [
    "data.shape"
   ]
  },
  {
   "cell_type": "code",
   "execution_count": 39,
   "metadata": {
    "execution": {
     "iopub.execute_input": "2022-09-16T02:45:41.055172Z",
     "iopub.status.busy": "2022-09-16T02:45:41.054835Z",
     "iopub.status.idle": "2022-09-16T02:45:41.089363Z",
     "shell.execute_reply": "2022-09-16T02:45:41.088295Z",
     "shell.execute_reply.started": "2022-09-16T02:45:41.055130Z"
    }
   },
   "outputs": [
    {
     "data": {
      "text/html": [
       "<div>\n",
       "<style scoped>\n",
       "    .dataframe tbody tr th:only-of-type {\n",
       "        vertical-align: middle;\n",
       "    }\n",
       "\n",
       "    .dataframe tbody tr th {\n",
       "        vertical-align: top;\n",
       "    }\n",
       "\n",
       "    .dataframe thead th {\n",
       "        text-align: right;\n",
       "    }\n",
       "</style>\n",
       "<table border=\"1\" class=\"dataframe\">\n",
       "  <thead>\n",
       "    <tr style=\"text-align: right;\">\n",
       "      <th></th>\n",
       "      <th>INCIDENT_KEY</th>\n",
       "      <th>OCCUR_DATE</th>\n",
       "      <th>OCCUR_TIME</th>\n",
       "      <th>BORO</th>\n",
       "      <th>PRECINCT</th>\n",
       "      <th>JURISDICTION_CODE</th>\n",
       "      <th>LOCATION_DESC</th>\n",
       "      <th>STATISTICAL_MURDER_FLAG</th>\n",
       "      <th>PERP_AGE_GROUP</th>\n",
       "      <th>PERP_SEX</th>\n",
       "      <th>PERP_RACE</th>\n",
       "      <th>VIC_AGE_GROUP</th>\n",
       "      <th>VIC_SEX</th>\n",
       "      <th>VIC_RACE</th>\n",
       "      <th>X_COORD_CD</th>\n",
       "      <th>Y_COORD_CD</th>\n",
       "      <th>Latitude</th>\n",
       "      <th>Longitude</th>\n",
       "      <th>Lon_Lat</th>\n",
       "    </tr>\n",
       "  </thead>\n",
       "  <tbody>\n",
       "    <tr>\n",
       "      <th>0</th>\n",
       "      <td>24050482</td>\n",
       "      <td>08/27/2006</td>\n",
       "      <td>05:35:00</td>\n",
       "      <td>BRONX</td>\n",
       "      <td>52</td>\n",
       "      <td>0.0</td>\n",
       "      <td>NaN</td>\n",
       "      <td>True</td>\n",
       "      <td>NaN</td>\n",
       "      <td>NaN</td>\n",
       "      <td>NaN</td>\n",
       "      <td>25-44</td>\n",
       "      <td>F</td>\n",
       "      <td>BLACK HISPANIC</td>\n",
       "      <td>1.017542e+06</td>\n",
       "      <td>255918.875000</td>\n",
       "      <td>40.869058</td>\n",
       "      <td>-73.879632</td>\n",
       "      <td>POINT (-73.87963173099996 40.86905819000003)</td>\n",
       "    </tr>\n",
       "    <tr>\n",
       "      <th>1</th>\n",
       "      <td>77673979</td>\n",
       "      <td>03/11/2011</td>\n",
       "      <td>12:03:00</td>\n",
       "      <td>QUEENS</td>\n",
       "      <td>106</td>\n",
       "      <td>0.0</td>\n",
       "      <td>NaN</td>\n",
       "      <td>False</td>\n",
       "      <td>NaN</td>\n",
       "      <td>NaN</td>\n",
       "      <td>NaN</td>\n",
       "      <td>65+</td>\n",
       "      <td>M</td>\n",
       "      <td>WHITE</td>\n",
       "      <td>1.027543e+06</td>\n",
       "      <td>186095.000000</td>\n",
       "      <td>40.677367</td>\n",
       "      <td>-73.843920</td>\n",
       "      <td>POINT (-73.84392019199998 40.677366895000034)</td>\n",
       "    </tr>\n",
       "    <tr>\n",
       "      <th>2</th>\n",
       "      <td>203350417</td>\n",
       "      <td>10/06/2019</td>\n",
       "      <td>01:09:00</td>\n",
       "      <td>BROOKLYN</td>\n",
       "      <td>77</td>\n",
       "      <td>0.0</td>\n",
       "      <td>NaN</td>\n",
       "      <td>False</td>\n",
       "      <td>NaN</td>\n",
       "      <td>NaN</td>\n",
       "      <td>NaN</td>\n",
       "      <td>18-24</td>\n",
       "      <td>F</td>\n",
       "      <td>BLACK</td>\n",
       "      <td>9.953250e+05</td>\n",
       "      <td>185155.000000</td>\n",
       "      <td>40.674886</td>\n",
       "      <td>-73.960075</td>\n",
       "      <td>POINT (-73.96007501899999 40.674885741000026)</td>\n",
       "    </tr>\n",
       "    <tr>\n",
       "      <th>3</th>\n",
       "      <td>80584527</td>\n",
       "      <td>09/04/2011</td>\n",
       "      <td>03:35:00</td>\n",
       "      <td>BRONX</td>\n",
       "      <td>40</td>\n",
       "      <td>0.0</td>\n",
       "      <td>NaN</td>\n",
       "      <td>False</td>\n",
       "      <td>NaN</td>\n",
       "      <td>NaN</td>\n",
       "      <td>NaN</td>\n",
       "      <td>&lt;18</td>\n",
       "      <td>M</td>\n",
       "      <td>BLACK</td>\n",
       "      <td>1.007453e+06</td>\n",
       "      <td>233952.000000</td>\n",
       "      <td>40.808798</td>\n",
       "      <td>-73.916184</td>\n",
       "      <td>POINT (-73.91618413199996 40.80879780500004)</td>\n",
       "    </tr>\n",
       "    <tr>\n",
       "      <th>4</th>\n",
       "      <td>90843766</td>\n",
       "      <td>05/27/2013</td>\n",
       "      <td>21:16:00</td>\n",
       "      <td>QUEENS</td>\n",
       "      <td>100</td>\n",
       "      <td>0.0</td>\n",
       "      <td>NaN</td>\n",
       "      <td>False</td>\n",
       "      <td>NaN</td>\n",
       "      <td>NaN</td>\n",
       "      <td>NaN</td>\n",
       "      <td>18-24</td>\n",
       "      <td>M</td>\n",
       "      <td>BLACK</td>\n",
       "      <td>1.041267e+06</td>\n",
       "      <td>157133.515625</td>\n",
       "      <td>40.597796</td>\n",
       "      <td>-73.794686</td>\n",
       "      <td>POINT (-73.79468553799995 40.597796249000055)</td>\n",
       "    </tr>\n",
       "  </tbody>\n",
       "</table>\n",
       "</div>"
      ],
      "text/plain": [
       "   INCIDENT_KEY  OCCUR_DATE OCCUR_TIME      BORO  PRECINCT  JURISDICTION_CODE  \\\n",
       "0      24050482  08/27/2006   05:35:00     BRONX        52                0.0   \n",
       "1      77673979  03/11/2011   12:03:00    QUEENS       106                0.0   \n",
       "2     203350417  10/06/2019   01:09:00  BROOKLYN        77                0.0   \n",
       "3      80584527  09/04/2011   03:35:00     BRONX        40                0.0   \n",
       "4      90843766  05/27/2013   21:16:00    QUEENS       100                0.0   \n",
       "\n",
       "  LOCATION_DESC  STATISTICAL_MURDER_FLAG PERP_AGE_GROUP PERP_SEX PERP_RACE  \\\n",
       "0           NaN                     True            NaN      NaN       NaN   \n",
       "1           NaN                    False            NaN      NaN       NaN   \n",
       "2           NaN                    False            NaN      NaN       NaN   \n",
       "3           NaN                    False            NaN      NaN       NaN   \n",
       "4           NaN                    False            NaN      NaN       NaN   \n",
       "\n",
       "  VIC_AGE_GROUP VIC_SEX        VIC_RACE    X_COORD_CD     Y_COORD_CD  \\\n",
       "0         25-44       F  BLACK HISPANIC  1.017542e+06  255918.875000   \n",
       "1           65+       M           WHITE  1.027543e+06  186095.000000   \n",
       "2         18-24       F           BLACK  9.953250e+05  185155.000000   \n",
       "3           <18       M           BLACK  1.007453e+06  233952.000000   \n",
       "4         18-24       M           BLACK  1.041267e+06  157133.515625   \n",
       "\n",
       "    Latitude  Longitude                                        Lon_Lat  \n",
       "0  40.869058 -73.879632   POINT (-73.87963173099996 40.86905819000003)  \n",
       "1  40.677367 -73.843920  POINT (-73.84392019199998 40.677366895000034)  \n",
       "2  40.674886 -73.960075  POINT (-73.96007501899999 40.674885741000026)  \n",
       "3  40.808798 -73.916184   POINT (-73.91618413199996 40.80879780500004)  \n",
       "4  40.597796 -73.794686  POINT (-73.79468553799995 40.597796249000055)  "
      ]
     },
     "execution_count": 39,
     "metadata": {},
     "output_type": "execute_result"
    }
   ],
   "source": [
    "data.head()"
   ]
  },
  {
   "cell_type": "code",
   "execution_count": 40,
   "metadata": {
    "execution": {
     "iopub.execute_input": "2022-09-16T02:45:41.090815Z",
     "iopub.status.busy": "2022-09-16T02:45:41.090588Z",
     "iopub.status.idle": "2022-09-16T02:45:41.106418Z",
     "shell.execute_reply": "2022-09-16T02:45:41.105480Z",
     "shell.execute_reply.started": "2022-09-16T02:45:41.090787Z"
    }
   },
   "outputs": [
    {
     "data": {
      "text/plain": [
       "75     1375\n",
       "73     1284\n",
       "67     1101\n",
       "79      921\n",
       "44      841\n",
       "47      818\n",
       "46      779\n",
       "40      759\n",
       "42      725\n",
       "81      722\n",
       "113     721\n",
       "77      700\n",
       "43      658\n",
       "48      638\n",
       "32      527\n",
       "71      526\n",
       "103     523\n",
       "120     514\n",
       "52      496\n",
       "83      439\n",
       "101     433\n",
       "70      427\n",
       "23      418\n",
       "41      417\n",
       "105     415\n",
       "69      406\n",
       "25      366\n",
       "60      320\n",
       "114     316\n",
       "49      295\n",
       "90      285\n",
       "28      280\n",
       "88      258\n",
       "63      251\n",
       "34      232\n",
       "30      196\n",
       "33      195\n",
       "106     185\n",
       "102     170\n",
       "100     149\n",
       "45      148\n",
       "115     146\n",
       "76      145\n",
       "110     137\n",
       "61      130\n",
       "26      129\n",
       "50      127\n",
       "84      102\n",
       "121      98\n",
       "109      98\n",
       "9        94\n",
       "72       91\n",
       "24       89\n",
       "7        86\n",
       "104      85\n",
       "107      79\n",
       "94       68\n",
       "62       61\n",
       "122      58\n",
       "10       58\n",
       "78       54\n",
       "13       52\n",
       "108      50\n",
       "5        48\n",
       "66       41\n",
       "20       32\n",
       "14       30\n",
       "68       27\n",
       "18       26\n",
       "123      26\n",
       "6        24\n",
       "1        22\n",
       "112      19\n",
       "19       11\n",
       "111       6\n",
       "17        6\n",
       "22        1\n",
       "Name: PRECINCT, dtype: int64"
      ]
     },
     "execution_count": 40,
     "metadata": {},
     "output_type": "execute_result"
    }
   ],
   "source": [
    "data['PRECINCT'].value_counts()"
   ]
  },
  {
   "cell_type": "code",
   "execution_count": 41,
   "metadata": {
    "execution": {
     "iopub.execute_input": "2022-09-16T02:45:41.108265Z",
     "iopub.status.busy": "2022-09-16T02:45:41.107777Z",
     "iopub.status.idle": "2022-09-16T02:45:41.140062Z",
     "shell.execute_reply": "2022-09-16T02:45:41.139357Z",
     "shell.execute_reply.started": "2022-09-16T02:45:41.108213Z"
    }
   },
   "outputs": [],
   "source": [
    "data['OCCUR_DATE'] = pd.to_datetime(data['OCCUR_DATE'])"
   ]
  },
  {
   "cell_type": "code",
   "execution_count": 42,
   "metadata": {
    "execution": {
     "iopub.execute_input": "2022-09-16T02:45:41.144514Z",
     "iopub.status.busy": "2022-09-16T02:45:41.143781Z",
     "iopub.status.idle": "2022-09-16T02:45:41.166509Z",
     "shell.execute_reply": "2022-09-16T02:45:41.165594Z",
     "shell.execute_reply.started": "2022-09-16T02:45:41.144472Z"
    }
   },
   "outputs": [
    {
     "data": {
      "text/html": [
       "<div>\n",
       "<style scoped>\n",
       "    .dataframe tbody tr th:only-of-type {\n",
       "        vertical-align: middle;\n",
       "    }\n",
       "\n",
       "    .dataframe tbody tr th {\n",
       "        vertical-align: top;\n",
       "    }\n",
       "\n",
       "    .dataframe thead th {\n",
       "        text-align: right;\n",
       "    }\n",
       "</style>\n",
       "<table border=\"1\" class=\"dataframe\">\n",
       "  <thead>\n",
       "    <tr style=\"text-align: right;\">\n",
       "      <th></th>\n",
       "      <th>INCIDENT_KEY</th>\n",
       "      <th>OCCUR_DATE</th>\n",
       "      <th>OCCUR_TIME</th>\n",
       "      <th>BORO</th>\n",
       "      <th>PRECINCT</th>\n",
       "      <th>JURISDICTION_CODE</th>\n",
       "      <th>LOCATION_DESC</th>\n",
       "      <th>STATISTICAL_MURDER_FLAG</th>\n",
       "      <th>PERP_AGE_GROUP</th>\n",
       "      <th>PERP_SEX</th>\n",
       "      <th>PERP_RACE</th>\n",
       "      <th>VIC_AGE_GROUP</th>\n",
       "      <th>VIC_SEX</th>\n",
       "      <th>VIC_RACE</th>\n",
       "      <th>X_COORD_CD</th>\n",
       "      <th>Y_COORD_CD</th>\n",
       "      <th>Latitude</th>\n",
       "      <th>Longitude</th>\n",
       "      <th>Lon_Lat</th>\n",
       "    </tr>\n",
       "  </thead>\n",
       "  <tbody>\n",
       "    <tr>\n",
       "      <th>0</th>\n",
       "      <td>24050482</td>\n",
       "      <td>2006-08-27</td>\n",
       "      <td>05:35:00</td>\n",
       "      <td>BRONX</td>\n",
       "      <td>52</td>\n",
       "      <td>0.0</td>\n",
       "      <td>NaN</td>\n",
       "      <td>True</td>\n",
       "      <td>NaN</td>\n",
       "      <td>NaN</td>\n",
       "      <td>NaN</td>\n",
       "      <td>25-44</td>\n",
       "      <td>F</td>\n",
       "      <td>BLACK HISPANIC</td>\n",
       "      <td>1.017542e+06</td>\n",
       "      <td>255918.875000</td>\n",
       "      <td>40.869058</td>\n",
       "      <td>-73.879632</td>\n",
       "      <td>POINT (-73.87963173099996 40.86905819000003)</td>\n",
       "    </tr>\n",
       "    <tr>\n",
       "      <th>1</th>\n",
       "      <td>77673979</td>\n",
       "      <td>2011-03-11</td>\n",
       "      <td>12:03:00</td>\n",
       "      <td>QUEENS</td>\n",
       "      <td>106</td>\n",
       "      <td>0.0</td>\n",
       "      <td>NaN</td>\n",
       "      <td>False</td>\n",
       "      <td>NaN</td>\n",
       "      <td>NaN</td>\n",
       "      <td>NaN</td>\n",
       "      <td>65+</td>\n",
       "      <td>M</td>\n",
       "      <td>WHITE</td>\n",
       "      <td>1.027543e+06</td>\n",
       "      <td>186095.000000</td>\n",
       "      <td>40.677367</td>\n",
       "      <td>-73.843920</td>\n",
       "      <td>POINT (-73.84392019199998 40.677366895000034)</td>\n",
       "    </tr>\n",
       "    <tr>\n",
       "      <th>2</th>\n",
       "      <td>203350417</td>\n",
       "      <td>2019-10-06</td>\n",
       "      <td>01:09:00</td>\n",
       "      <td>BROOKLYN</td>\n",
       "      <td>77</td>\n",
       "      <td>0.0</td>\n",
       "      <td>NaN</td>\n",
       "      <td>False</td>\n",
       "      <td>NaN</td>\n",
       "      <td>NaN</td>\n",
       "      <td>NaN</td>\n",
       "      <td>18-24</td>\n",
       "      <td>F</td>\n",
       "      <td>BLACK</td>\n",
       "      <td>9.953250e+05</td>\n",
       "      <td>185155.000000</td>\n",
       "      <td>40.674886</td>\n",
       "      <td>-73.960075</td>\n",
       "      <td>POINT (-73.96007501899999 40.674885741000026)</td>\n",
       "    </tr>\n",
       "    <tr>\n",
       "      <th>3</th>\n",
       "      <td>80584527</td>\n",
       "      <td>2011-09-04</td>\n",
       "      <td>03:35:00</td>\n",
       "      <td>BRONX</td>\n",
       "      <td>40</td>\n",
       "      <td>0.0</td>\n",
       "      <td>NaN</td>\n",
       "      <td>False</td>\n",
       "      <td>NaN</td>\n",
       "      <td>NaN</td>\n",
       "      <td>NaN</td>\n",
       "      <td>&lt;18</td>\n",
       "      <td>M</td>\n",
       "      <td>BLACK</td>\n",
       "      <td>1.007453e+06</td>\n",
       "      <td>233952.000000</td>\n",
       "      <td>40.808798</td>\n",
       "      <td>-73.916184</td>\n",
       "      <td>POINT (-73.91618413199996 40.80879780500004)</td>\n",
       "    </tr>\n",
       "    <tr>\n",
       "      <th>4</th>\n",
       "      <td>90843766</td>\n",
       "      <td>2013-05-27</td>\n",
       "      <td>21:16:00</td>\n",
       "      <td>QUEENS</td>\n",
       "      <td>100</td>\n",
       "      <td>0.0</td>\n",
       "      <td>NaN</td>\n",
       "      <td>False</td>\n",
       "      <td>NaN</td>\n",
       "      <td>NaN</td>\n",
       "      <td>NaN</td>\n",
       "      <td>18-24</td>\n",
       "      <td>M</td>\n",
       "      <td>BLACK</td>\n",
       "      <td>1.041267e+06</td>\n",
       "      <td>157133.515625</td>\n",
       "      <td>40.597796</td>\n",
       "      <td>-73.794686</td>\n",
       "      <td>POINT (-73.79468553799995 40.597796249000055)</td>\n",
       "    </tr>\n",
       "  </tbody>\n",
       "</table>\n",
       "</div>"
      ],
      "text/plain": [
       "   INCIDENT_KEY OCCUR_DATE OCCUR_TIME      BORO  PRECINCT  JURISDICTION_CODE  \\\n",
       "0      24050482 2006-08-27   05:35:00     BRONX        52                0.0   \n",
       "1      77673979 2011-03-11   12:03:00    QUEENS       106                0.0   \n",
       "2     203350417 2019-10-06   01:09:00  BROOKLYN        77                0.0   \n",
       "3      80584527 2011-09-04   03:35:00     BRONX        40                0.0   \n",
       "4      90843766 2013-05-27   21:16:00    QUEENS       100                0.0   \n",
       "\n",
       "  LOCATION_DESC  STATISTICAL_MURDER_FLAG PERP_AGE_GROUP PERP_SEX PERP_RACE  \\\n",
       "0           NaN                     True            NaN      NaN       NaN   \n",
       "1           NaN                    False            NaN      NaN       NaN   \n",
       "2           NaN                    False            NaN      NaN       NaN   \n",
       "3           NaN                    False            NaN      NaN       NaN   \n",
       "4           NaN                    False            NaN      NaN       NaN   \n",
       "\n",
       "  VIC_AGE_GROUP VIC_SEX        VIC_RACE    X_COORD_CD     Y_COORD_CD  \\\n",
       "0         25-44       F  BLACK HISPANIC  1.017542e+06  255918.875000   \n",
       "1           65+       M           WHITE  1.027543e+06  186095.000000   \n",
       "2         18-24       F           BLACK  9.953250e+05  185155.000000   \n",
       "3           <18       M           BLACK  1.007453e+06  233952.000000   \n",
       "4         18-24       M           BLACK  1.041267e+06  157133.515625   \n",
       "\n",
       "    Latitude  Longitude                                        Lon_Lat  \n",
       "0  40.869058 -73.879632   POINT (-73.87963173099996 40.86905819000003)  \n",
       "1  40.677367 -73.843920  POINT (-73.84392019199998 40.677366895000034)  \n",
       "2  40.674886 -73.960075  POINT (-73.96007501899999 40.674885741000026)  \n",
       "3  40.808798 -73.916184   POINT (-73.91618413199996 40.80879780500004)  \n",
       "4  40.597796 -73.794686  POINT (-73.79468553799995 40.597796249000055)  "
      ]
     },
     "execution_count": 42,
     "metadata": {},
     "output_type": "execute_result"
    }
   ],
   "source": [
    "data.head()"
   ]
  },
  {
   "cell_type": "code",
   "execution_count": 43,
   "metadata": {
    "execution": {
     "iopub.execute_input": "2022-09-16T02:45:41.168098Z",
     "iopub.status.busy": "2022-09-16T02:45:41.167834Z",
     "iopub.status.idle": "2022-09-16T02:45:41.193803Z",
     "shell.execute_reply": "2022-09-16T02:45:41.193028Z",
     "shell.execute_reply.started": "2022-09-16T02:45:41.168063Z"
    }
   },
   "outputs": [
    {
     "data": {
      "text/plain": [
       "INCIDENT_KEY                   0\n",
       "OCCUR_DATE                     0\n",
       "OCCUR_TIME                     0\n",
       "BORO                           0\n",
       "PRECINCT                       0\n",
       "JURISDICTION_CODE              2\n",
       "LOCATION_DESC              13581\n",
       "STATISTICAL_MURDER_FLAG        0\n",
       "PERP_AGE_GROUP              8295\n",
       "PERP_SEX                    8261\n",
       "PERP_RACE                   8261\n",
       "VIC_AGE_GROUP                  0\n",
       "VIC_SEX                        0\n",
       "VIC_RACE                       0\n",
       "X_COORD_CD                     0\n",
       "Y_COORD_CD                     0\n",
       "Latitude                       0\n",
       "Longitude                      0\n",
       "Lon_Lat                        0\n",
       "dtype: int64"
      ]
     },
     "execution_count": 43,
     "metadata": {},
     "output_type": "execute_result"
    }
   ],
   "source": [
    "data.isnull().sum()"
   ]
  },
  {
   "cell_type": "code",
   "execution_count": 44,
   "metadata": {
    "execution": {
     "iopub.execute_input": "2022-09-16T02:45:41.196039Z",
     "iopub.status.busy": "2022-09-16T02:45:41.195353Z",
     "iopub.status.idle": "2022-09-16T02:45:41.207103Z",
     "shell.execute_reply": "2022-09-16T02:45:41.206231Z",
     "shell.execute_reply.started": "2022-09-16T02:45:41.196006Z"
    }
   },
   "outputs": [],
   "source": [
    "data.drop(['Lon_Lat', 'Y_COORD_CD', 'X_COORD_CD'], axis = 1, inplace = True)"
   ]
  },
  {
   "cell_type": "code",
   "execution_count": 45,
   "metadata": {
    "execution": {
     "iopub.execute_input": "2022-09-16T02:45:41.211962Z",
     "iopub.status.busy": "2022-09-16T02:45:41.211141Z",
     "iopub.status.idle": "2022-09-16T02:45:41.221389Z",
     "shell.execute_reply": "2022-09-16T02:45:41.220485Z",
     "shell.execute_reply.started": "2022-09-16T02:45:41.211928Z"
    }
   },
   "outputs": [
    {
     "data": {
      "text/plain": [
       "18-24      5508\n",
       "25-44      4714\n",
       "UNKNOWN    3148\n",
       "<18        1368\n",
       "45-64       495\n",
       "65+          54\n",
       "1020          1\n",
       "940           1\n",
       "224           1\n",
       "Name: PERP_AGE_GROUP, dtype: int64"
      ]
     },
     "execution_count": 45,
     "metadata": {},
     "output_type": "execute_result"
    }
   ],
   "source": [
    "data['PERP_AGE_GROUP'].value_counts()"
   ]
  },
  {
   "cell_type": "code",
   "execution_count": 46,
   "metadata": {
    "execution": {
     "iopub.execute_input": "2022-09-16T02:45:41.223543Z",
     "iopub.status.busy": "2022-09-16T02:45:41.223012Z",
     "iopub.status.idle": "2022-09-16T02:45:41.243595Z",
     "shell.execute_reply": "2022-09-16T02:45:41.242397Z",
     "shell.execute_reply.started": "2022-09-16T02:45:41.223500Z"
    }
   },
   "outputs": [
    {
     "data": {
      "text/plain": [
       "(23582, 16)"
      ]
     },
     "execution_count": 46,
     "metadata": {},
     "output_type": "execute_result"
    }
   ],
   "source": [
    "values = ['1020','940','224']\n",
    "data = data[~data['PERP_AGE_GROUP'].isin(values)]\n",
    "data.shape"
   ]
  },
  {
   "cell_type": "code",
   "execution_count": 47,
   "metadata": {
    "execution": {
     "iopub.execute_input": "2022-09-16T02:45:41.245662Z",
     "iopub.status.busy": "2022-09-16T02:45:41.244976Z",
     "iopub.status.idle": "2022-09-16T02:45:41.263492Z",
     "shell.execute_reply": "2022-09-16T02:45:41.262754Z",
     "shell.execute_reply.started": "2022-09-16T02:45:41.245617Z"
    }
   },
   "outputs": [
    {
     "data": {
      "text/plain": [
       "(23580, 16)"
      ]
     },
     "execution_count": 47,
     "metadata": {},
     "output_type": "execute_result"
    }
   ],
   "source": [
    "data['JURISDICTION_CODE'].value_counts()\n",
    "data.dropna(subset=['JURISDICTION_CODE'], inplace=True)\n",
    "data.shape"
   ]
  },
  {
   "cell_type": "code",
   "execution_count": 48,
   "metadata": {
    "execution": {
     "iopub.execute_input": "2022-09-16T02:45:41.265515Z",
     "iopub.status.busy": "2022-09-16T02:45:41.264747Z",
     "iopub.status.idle": "2022-09-16T02:45:41.275767Z",
     "shell.execute_reply": "2022-09-16T02:45:41.274882Z",
     "shell.execute_reply.started": "2022-09-16T02:45:41.265473Z"
    }
   },
   "outputs": [
    {
     "data": {
      "text/plain": [
       "BLACK                             16867\n",
       "WHITE HISPANIC                     3447\n",
       "BLACK HISPANIC                     2245\n",
       "WHITE                               620\n",
       "ASIAN / PACIFIC ISLANDER            327\n",
       "UNKNOWN                              65\n",
       "AMERICAN INDIAN/ALASKAN NATIVE        9\n",
       "Name: VIC_RACE, dtype: int64"
      ]
     },
     "execution_count": 48,
     "metadata": {},
     "output_type": "execute_result"
    }
   ],
   "source": [
    "data['VIC_RACE'].value_counts()"
   ]
  },
  {
   "cell_type": "code",
   "execution_count": 49,
   "metadata": {
    "execution": {
     "iopub.execute_input": "2022-09-16T02:45:41.277645Z",
     "iopub.status.busy": "2022-09-16T02:45:41.277222Z",
     "iopub.status.idle": "2022-09-16T02:45:41.300888Z",
     "shell.execute_reply": "2022-09-16T02:45:41.300053Z",
     "shell.execute_reply.started": "2022-09-16T02:45:41.277588Z"
    }
   },
   "outputs": [
    {
     "data": {
      "text/html": [
       "<div>\n",
       "<style scoped>\n",
       "    .dataframe tbody tr th:only-of-type {\n",
       "        vertical-align: middle;\n",
       "    }\n",
       "\n",
       "    .dataframe tbody tr th {\n",
       "        vertical-align: top;\n",
       "    }\n",
       "\n",
       "    .dataframe thead th {\n",
       "        text-align: right;\n",
       "    }\n",
       "</style>\n",
       "<table border=\"1\" class=\"dataframe\">\n",
       "  <thead>\n",
       "    <tr style=\"text-align: right;\">\n",
       "      <th></th>\n",
       "      <th>INCIDENT_KEY</th>\n",
       "      <th>Latitude</th>\n",
       "      <th>Longitude</th>\n",
       "    </tr>\n",
       "  </thead>\n",
       "  <tbody>\n",
       "    <tr>\n",
       "      <th>16838</th>\n",
       "      <td>139716503</td>\n",
       "      <td>40.672154</td>\n",
       "      <td>-73.956052</td>\n",
       "    </tr>\n",
       "    <tr>\n",
       "      <th>20697</th>\n",
       "      <td>9953248</td>\n",
       "      <td>40.682397</td>\n",
       "      <td>-73.840081</td>\n",
       "    </tr>\n",
       "    <tr>\n",
       "      <th>14553</th>\n",
       "      <td>9953246</td>\n",
       "      <td>40.835990</td>\n",
       "      <td>-73.916276</td>\n",
       "    </tr>\n",
       "    <tr>\n",
       "      <th>21448</th>\n",
       "      <td>9953250</td>\n",
       "      <td>40.774861</td>\n",
       "      <td>-73.933833</td>\n",
       "    </tr>\n",
       "    <tr>\n",
       "      <th>20896</th>\n",
       "      <td>9953250</td>\n",
       "      <td>40.774861</td>\n",
       "      <td>-73.933833</td>\n",
       "    </tr>\n",
       "  </tbody>\n",
       "</table>\n",
       "</div>"
      ],
      "text/plain": [
       "       INCIDENT_KEY   Latitude  Longitude\n",
       "16838     139716503  40.672154 -73.956052\n",
       "20697       9953248  40.682397 -73.840081\n",
       "14553       9953246  40.835990 -73.916276\n",
       "21448       9953250  40.774861 -73.933833\n",
       "20896       9953250  40.774861 -73.933833"
      ]
     },
     "execution_count": 49,
     "metadata": {},
     "output_type": "execute_result"
    }
   ],
   "source": [
    "data = data.sort_values(by=['OCCUR_DATE'])\n",
    "#data.head()\n",
    "X=data.loc[:,['INCIDENT_KEY','Latitude','Longitude']]\n",
    "X.head()"
   ]
  },
  {
   "cell_type": "code",
   "execution_count": 50,
   "metadata": {
    "execution": {
     "iopub.execute_input": "2022-09-16T02:45:41.302425Z",
     "iopub.status.busy": "2022-09-16T02:45:41.302185Z",
     "iopub.status.idle": "2022-09-16T02:45:43.584224Z",
     "shell.execute_reply": "2022-09-16T02:45:43.583236Z",
     "shell.execute_reply.started": "2022-09-16T02:45:41.302398Z"
    }
   },
   "outputs": [
    {
     "data": {
      "image/png": "[encoded data removed]",
      "text/plain": [
       "<Figure size 432x288 with 1 Axes>"
      ]
     },
     "metadata": {
      "needs_background": "light"
     },
     "output_type": "display_data"
    }
   ],
   "source": [
    "K_clusters = range(1,10)\n",
    "kmeans = [KMeans(n_clusters=i) for i in K_clusters]\n",
    "Y_axis = data[['Latitude']]\n",
    "X_axis = data[['Longitude']]\n",
    "score = [kmeans[i].fit(Y_axis).score(Y_axis) for i in range(len(kmeans))]\n",
    "# Visualize\n",
    "plt.plot(K_clusters, score)\n",
    "plt.xlabel('Number of Clusters')\n",
    "plt.ylabel('Score')\n",
    "plt.title('Elbow Curve')\n",
    "plt.show()"
   ]
  },
  {
   "cell_type": "code",
   "execution_count": 51,
   "metadata": {},
   "outputs": [
    {
     "data": {
      "text/html": [
       "<div>\n",
       "<style scoped>\n",
       "    .dataframe tbody tr th:only-of-type {\n",
       "        vertical-align: middle;\n",
       "    }\n",
       "\n",
       "    .dataframe tbody tr th {\n",
       "        vertical-align: top;\n",
       "    }\n",
       "\n",
       "    .dataframe thead th {\n",
       "        text-align: right;\n",
       "    }\n",
       "</style>\n",
       "<table border=\"1\" class=\"dataframe\">\n",
       "  <thead>\n",
       "    <tr style=\"text-align: right;\">\n",
       "      <th></th>\n",
       "      <th>INCIDENT_KEY</th>\n",
       "      <th>Latitude</th>\n",
       "      <th>Longitude</th>\n",
       "      <th>cluster_label</th>\n",
       "    </tr>\n",
       "  </thead>\n",
       "  <tbody>\n",
       "    <tr>\n",
       "      <th>16838</th>\n",
       "      <td>139716503</td>\n",
       "      <td>40.672154</td>\n",
       "      <td>-73.956052</td>\n",
       "      <td>1</td>\n",
       "    </tr>\n",
       "    <tr>\n",
       "      <th>20697</th>\n",
       "      <td>9953248</td>\n",
       "      <td>40.682397</td>\n",
       "      <td>-73.840081</td>\n",
       "      <td>2</td>\n",
       "    </tr>\n",
       "    <tr>\n",
       "      <th>14553</th>\n",
       "      <td>9953246</td>\n",
       "      <td>40.835990</td>\n",
       "      <td>-73.916276</td>\n",
       "      <td>0</td>\n",
       "    </tr>\n",
       "    <tr>\n",
       "      <th>21448</th>\n",
       "      <td>9953250</td>\n",
       "      <td>40.774861</td>\n",
       "      <td>-73.933833</td>\n",
       "      <td>0</td>\n",
       "    </tr>\n",
       "    <tr>\n",
       "      <th>20896</th>\n",
       "      <td>9953250</td>\n",
       "      <td>40.774861</td>\n",
       "      <td>-73.933833</td>\n",
       "      <td>0</td>\n",
       "    </tr>\n",
       "  </tbody>\n",
       "</table>\n",
       "</div>"
      ],
      "text/plain": [
       "       INCIDENT_KEY   Latitude  Longitude  cluster_label\n",
       "16838     139716503  40.672154 -73.956052              1\n",
       "20697       9953248  40.682397 -73.840081              2\n",
       "14553       9953246  40.835990 -73.916276              0\n",
       "21448       9953250  40.774861 -73.933833              0\n",
       "20896       9953250  40.774861 -73.933833              0"
      ]
     },
     "execution_count": 51,
     "metadata": {},
     "output_type": "execute_result"
    }
   ],
   "source": [
    "kmeans = KMeans(n_clusters = 3, init ='k-means++')\n",
    "kmeans.fit(X[X.columns[1:3]]) # Compute k-means clustering\n",
    "X['cluster_label'] = kmeans.fit_predict(X[X.columns[1:3]])\n",
    "centers = kmeans.cluster_centers_ # Coordinates of cluster centers\n",
    "labels = kmeans.predict(X[X.columns[1:3]]) # Labels of each point\n",
    "X.head()"
   ]
  },
  {
   "cell_type": "code",
   "execution_count": 52,
   "metadata": {},
   "outputs": [
    {
     "data": {
      "text/plain": [
       "1    10922\n",
       "0     9771\n",
       "2     2887\n",
       "Name: cluster_label, dtype: int64"
      ]
     },
     "execution_count": 52,
     "metadata": {},
     "output_type": "execute_result"
    }
   ],
   "source": [
    "X['cluster_label'].value_counts()"
   ]
  },
  {
   "cell_type": "code",
   "execution_count": 53,
   "metadata": {},
   "outputs": [
    {
     "data": {
      "text/plain": [
       "<matplotlib.collections.PathCollection at 0x27a5baef700>"
      ]
     },
     "execution_count": 53,
     "metadata": {},
     "output_type": "execute_result"
    },
    {
     "data": {
      "image/png": "[encoded data removed]",
      "text/plain": [
       "<Figure size 576x360 with 2 Axes>"
      ]
     },
     "metadata": {
      "needs_background": "light"
     },
     "output_type": "display_data"
    }
   ],
   "source": [
    "fig, ax = plt.subplots()\n",
    "X.plot(kind='scatter', x='Latitude', y='Longitude', s=60, c=labels, cmap='viridis',figsize=(8,5), ax=ax) \n",
    "plt.scatter(centers[:, 0], centers[:, 1], c='black', s=200, alpha=0.5)"
   ]
  },
  {
   "cell_type": "code",
   "execution_count": 54,
   "metadata": {},
   "outputs": [
    {
     "data": {
      "text/html": [
       "<div>\n",
       "<style scoped>\n",
       "    .dataframe tbody tr th:only-of-type {\n",
       "        vertical-align: middle;\n",
       "    }\n",
       "\n",
       "    .dataframe tbody tr th {\n",
       "        vertical-align: top;\n",
       "    }\n",
       "\n",
       "    .dataframe thead th {\n",
       "        text-align: right;\n",
       "    }\n",
       "</style>\n",
       "<table border=\"1\" class=\"dataframe\">\n",
       "  <thead>\n",
       "    <tr style=\"text-align: right;\">\n",
       "      <th></th>\n",
       "      <th>INCIDENT_KEY</th>\n",
       "      <th>OCCUR_DATE</th>\n",
       "      <th>OCCUR_TIME</th>\n",
       "      <th>BORO</th>\n",
       "      <th>PRECINCT</th>\n",
       "      <th>JURISDICTION_CODE</th>\n",
       "      <th>LOCATION_DESC</th>\n",
       "      <th>STATISTICAL_MURDER_FLAG</th>\n",
       "      <th>PERP_AGE_GROUP</th>\n",
       "      <th>PERP_SEX</th>\n",
       "      <th>PERP_RACE</th>\n",
       "      <th>VIC_AGE_GROUP</th>\n",
       "      <th>VIC_SEX</th>\n",
       "      <th>VIC_RACE</th>\n",
       "      <th>Latitude_x</th>\n",
       "      <th>Longitude_x</th>\n",
       "      <th>Latitude_y</th>\n",
       "      <th>Longitude_y</th>\n",
       "      <th>cluster_label</th>\n",
       "    </tr>\n",
       "  </thead>\n",
       "  <tbody>\n",
       "    <tr>\n",
       "      <th>0</th>\n",
       "      <td>139716503</td>\n",
       "      <td>2006-01-01</td>\n",
       "      <td>12:30:00</td>\n",
       "      <td>BROOKLYN</td>\n",
       "      <td>77</td>\n",
       "      <td>0.0</td>\n",
       "      <td>PVT HOUSE</td>\n",
       "      <td>True</td>\n",
       "      <td>NaN</td>\n",
       "      <td>NaN</td>\n",
       "      <td>NaN</td>\n",
       "      <td>25-44</td>\n",
       "      <td>M</td>\n",
       "      <td>BLACK</td>\n",
       "      <td>40.672154</td>\n",
       "      <td>-73.956052</td>\n",
       "      <td>40.672154</td>\n",
       "      <td>-73.956052</td>\n",
       "      <td>1</td>\n",
       "    </tr>\n",
       "    <tr>\n",
       "      <th>1</th>\n",
       "      <td>9953248</td>\n",
       "      <td>2006-01-01</td>\n",
       "      <td>19:00:00</td>\n",
       "      <td>QUEENS</td>\n",
       "      <td>106</td>\n",
       "      <td>0.0</td>\n",
       "      <td>NONE</td>\n",
       "      <td>False</td>\n",
       "      <td>18-24</td>\n",
       "      <td>M</td>\n",
       "      <td>BLACK</td>\n",
       "      <td>18-24</td>\n",
       "      <td>M</td>\n",
       "      <td>BLACK</td>\n",
       "      <td>40.682397</td>\n",
       "      <td>-73.840081</td>\n",
       "      <td>40.682397</td>\n",
       "      <td>-73.840081</td>\n",
       "      <td>2</td>\n",
       "    </tr>\n",
       "    <tr>\n",
       "      <th>2</th>\n",
       "      <td>9953246</td>\n",
       "      <td>2006-01-01</td>\n",
       "      <td>05:51:00</td>\n",
       "      <td>BRONX</td>\n",
       "      <td>44</td>\n",
       "      <td>0.0</td>\n",
       "      <td>NONE</td>\n",
       "      <td>False</td>\n",
       "      <td>25-44</td>\n",
       "      <td>M</td>\n",
       "      <td>WHITE HISPANIC</td>\n",
       "      <td>18-24</td>\n",
       "      <td>M</td>\n",
       "      <td>WHITE HISPANIC</td>\n",
       "      <td>40.835990</td>\n",
       "      <td>-73.916276</td>\n",
       "      <td>40.835990</td>\n",
       "      <td>-73.916276</td>\n",
       "      <td>0</td>\n",
       "    </tr>\n",
       "    <tr>\n",
       "      <th>3</th>\n",
       "      <td>9953250</td>\n",
       "      <td>2006-01-01</td>\n",
       "      <td>02:34:00</td>\n",
       "      <td>QUEENS</td>\n",
       "      <td>114</td>\n",
       "      <td>0.0</td>\n",
       "      <td>BAR/NIGHT CLUB</td>\n",
       "      <td>True</td>\n",
       "      <td>25-44</td>\n",
       "      <td>M</td>\n",
       "      <td>BLACK</td>\n",
       "      <td>25-44</td>\n",
       "      <td>M</td>\n",
       "      <td>BLACK</td>\n",
       "      <td>40.774861</td>\n",
       "      <td>-73.933833</td>\n",
       "      <td>40.774861</td>\n",
       "      <td>-73.933833</td>\n",
       "      <td>0</td>\n",
       "    </tr>\n",
       "    <tr>\n",
       "      <th>4</th>\n",
       "      <td>9953250</td>\n",
       "      <td>2006-01-01</td>\n",
       "      <td>02:34:00</td>\n",
       "      <td>QUEENS</td>\n",
       "      <td>114</td>\n",
       "      <td>0.0</td>\n",
       "      <td>BAR/NIGHT CLUB</td>\n",
       "      <td>True</td>\n",
       "      <td>25-44</td>\n",
       "      <td>M</td>\n",
       "      <td>BLACK</td>\n",
       "      <td>25-44</td>\n",
       "      <td>M</td>\n",
       "      <td>BLACK</td>\n",
       "      <td>40.774861</td>\n",
       "      <td>-73.933833</td>\n",
       "      <td>40.774861</td>\n",
       "      <td>-73.933833</td>\n",
       "      <td>0</td>\n",
       "    </tr>\n",
       "  </tbody>\n",
       "</table>\n",
       "</div>"
      ],
      "text/plain": [
       "   INCIDENT_KEY OCCUR_DATE OCCUR_TIME      BORO  PRECINCT  JURISDICTION_CODE  \\\n",
       "0     139716503 2006-01-01   12:30:00  BROOKLYN        77                0.0   \n",
       "1       9953248 2006-01-01   19:00:00    QUEENS       106                0.0   \n",
       "2       9953246 2006-01-01   05:51:00     BRONX        44                0.0   \n",
       "3       9953250 2006-01-01   02:34:00    QUEENS       114                0.0   \n",
       "4       9953250 2006-01-01   02:34:00    QUEENS       114                0.0   \n",
       "\n",
       "    LOCATION_DESC  STATISTICAL_MURDER_FLAG PERP_AGE_GROUP PERP_SEX  \\\n",
       "0       PVT HOUSE                     True            NaN      NaN   \n",
       "1            NONE                    False          18-24        M   \n",
       "2            NONE                    False          25-44        M   \n",
       "3  BAR/NIGHT CLUB                     True          25-44        M   \n",
       "4  BAR/NIGHT CLUB                     True          25-44        M   \n",
       "\n",
       "        PERP_RACE VIC_AGE_GROUP VIC_SEX        VIC_RACE  Latitude_x  \\\n",
       "0             NaN         25-44       M           BLACK   40.672154   \n",
       "1           BLACK         18-24       M           BLACK   40.682397   \n",
       "2  WHITE HISPANIC         18-24       M  WHITE HISPANIC   40.835990   \n",
       "3           BLACK         25-44       M           BLACK   40.774861   \n",
       "4           BLACK         25-44       M           BLACK   40.774861   \n",
       "\n",
       "   Longitude_x  Latitude_y  Longitude_y  cluster_label  \n",
       "0   -73.956052   40.672154   -73.956052              1  \n",
       "1   -73.840081   40.682397   -73.840081              2  \n",
       "2   -73.916276   40.835990   -73.916276              0  \n",
       "3   -73.933833   40.774861   -73.933833              0  \n",
       "4   -73.933833   40.774861   -73.933833              0  "
      ]
     },
     "execution_count": 54,
     "metadata": {},
     "output_type": "execute_result"
    }
   ],
   "source": [
    "clustered_data = data.merge(X, left_on='INCIDENT_KEY', right_on='INCIDENT_KEY')\n",
    "clustered_data.head()"
   ]
  },
  {
   "cell_type": "code",
   "execution_count": 55,
   "metadata": {},
   "outputs": [],
   "source": [
    "clustered_data.drop(['INCIDENT_KEY', 'Latitude_x','Longitude_x','Latitude_y','Longitude_y'],axis=1, inplace=True)"
   ]
  },
  {
   "cell_type": "code",
   "execution_count": 56,
   "metadata": {},
   "outputs": [
    {
     "data": {
      "text/plain": [
       "OCCUR_DATE                 datetime64[ns]\n",
       "OCCUR_TIME                         object\n",
       "BORO                               object\n",
       "PRECINCT                            int64\n",
       "JURISDICTION_CODE                 float64\n",
       "LOCATION_DESC                      object\n",
       "STATISTICAL_MURDER_FLAG              bool\n",
       "PERP_AGE_GROUP                     object\n",
       "PERP_SEX                           object\n",
       "PERP_RACE                          object\n",
       "VIC_AGE_GROUP                      object\n",
       "VIC_SEX                            object\n",
       "VIC_RACE                           object\n",
       "cluster_label                       int32\n",
       "dtype: object"
      ]
     },
     "execution_count": 56,
     "metadata": {},
     "output_type": "execute_result"
    }
   ],
   "source": [
    "clustered_data.dtypes"
   ]
  },
  {
   "cell_type": "code",
   "execution_count": 57,
   "metadata": {},
   "outputs": [
    {
     "data": {
      "text/html": [
       "<div>\n",
       "<style scoped>\n",
       "    .dataframe tbody tr th:only-of-type {\n",
       "        vertical-align: middle;\n",
       "    }\n",
       "\n",
       "    .dataframe tbody tr th {\n",
       "        vertical-align: top;\n",
       "    }\n",
       "\n",
       "    .dataframe thead th {\n",
       "        text-align: right;\n",
       "    }\n",
       "</style>\n",
       "<table border=\"1\" class=\"dataframe\">\n",
       "  <thead>\n",
       "    <tr style=\"text-align: right;\">\n",
       "      <th></th>\n",
       "      <th>OCCUR_DATE</th>\n",
       "      <th>OCCUR_TIME</th>\n",
       "      <th>BORO</th>\n",
       "      <th>PRECINCT</th>\n",
       "      <th>JURISDICTION_CODE</th>\n",
       "      <th>LOCATION_DESC</th>\n",
       "      <th>STATISTICAL_MURDER_FLAG</th>\n",
       "      <th>PERP_AGE_GROUP</th>\n",
       "      <th>PERP_SEX</th>\n",
       "      <th>PERP_RACE</th>\n",
       "      <th>VIC_AGE_GROUP</th>\n",
       "      <th>VIC_SEX</th>\n",
       "      <th>VIC_RACE</th>\n",
       "      <th>cluster_label</th>\n",
       "      <th>OCCUR_TIME_CONV</th>\n",
       "    </tr>\n",
       "  </thead>\n",
       "  <tbody>\n",
       "    <tr>\n",
       "      <th>0</th>\n",
       "      <td>2006-01-01</td>\n",
       "      <td>12:30:00</td>\n",
       "      <td>BROOKLYN</td>\n",
       "      <td>77</td>\n",
       "      <td>0.0</td>\n",
       "      <td>PVT HOUSE</td>\n",
       "      <td>True</td>\n",
       "      <td>NaN</td>\n",
       "      <td>NaN</td>\n",
       "      <td>NaN</td>\n",
       "      <td>25-44</td>\n",
       "      <td>M</td>\n",
       "      <td>BLACK</td>\n",
       "      <td>1</td>\n",
       "      <td>2023-10-16 12:30:00</td>\n",
       "    </tr>\n",
       "    <tr>\n",
       "      <th>1</th>\n",
       "      <td>2006-01-01</td>\n",
       "      <td>19:00:00</td>\n",
       "      <td>QUEENS</td>\n",
       "      <td>106</td>\n",
       "      <td>0.0</td>\n",
       "      <td>NONE</td>\n",
       "      <td>False</td>\n",
       "      <td>18-24</td>\n",
       "      <td>M</td>\n",
       "      <td>BLACK</td>\n",
       "      <td>18-24</td>\n",
       "      <td>M</td>\n",
       "      <td>BLACK</td>\n",
       "      <td>2</td>\n",
       "      <td>2023-10-16 19:00:00</td>\n",
       "    </tr>\n",
       "    <tr>\n",
       "      <th>2</th>\n",
       "      <td>2006-01-01</td>\n",
       "      <td>05:51:00</td>\n",
       "      <td>BRONX</td>\n",
       "      <td>44</td>\n",
       "      <td>0.0</td>\n",
       "      <td>NONE</td>\n",
       "      <td>False</td>\n",
       "      <td>25-44</td>\n",
       "      <td>M</td>\n",
       "      <td>WHITE HISPANIC</td>\n",
       "      <td>18-24</td>\n",
       "      <td>M</td>\n",
       "      <td>WHITE HISPANIC</td>\n",
       "      <td>0</td>\n",
       "      <td>2023-10-16 05:51:00</td>\n",
       "    </tr>\n",
       "    <tr>\n",
       "      <th>3</th>\n",
       "      <td>2006-01-01</td>\n",
       "      <td>02:34:00</td>\n",
       "      <td>QUEENS</td>\n",
       "      <td>114</td>\n",
       "      <td>0.0</td>\n",
       "      <td>BAR/NIGHT CLUB</td>\n",
       "      <td>True</td>\n",
       "      <td>25-44</td>\n",
       "      <td>M</td>\n",
       "      <td>BLACK</td>\n",
       "      <td>25-44</td>\n",
       "      <td>M</td>\n",
       "      <td>BLACK</td>\n",
       "      <td>0</td>\n",
       "      <td>2023-10-16 02:34:00</td>\n",
       "    </tr>\n",
       "    <tr>\n",
       "      <th>4</th>\n",
       "      <td>2006-01-01</td>\n",
       "      <td>02:34:00</td>\n",
       "      <td>QUEENS</td>\n",
       "      <td>114</td>\n",
       "      <td>0.0</td>\n",
       "      <td>BAR/NIGHT CLUB</td>\n",
       "      <td>True</td>\n",
       "      <td>25-44</td>\n",
       "      <td>M</td>\n",
       "      <td>BLACK</td>\n",
       "      <td>25-44</td>\n",
       "      <td>M</td>\n",
       "      <td>BLACK</td>\n",
       "      <td>0</td>\n",
       "      <td>2023-10-16 02:34:00</td>\n",
       "    </tr>\n",
       "  </tbody>\n",
       "</table>\n",
       "</div>"
      ],
      "text/plain": [
       "  OCCUR_DATE OCCUR_TIME      BORO  PRECINCT  JURISDICTION_CODE  \\\n",
       "0 2006-01-01   12:30:00  BROOKLYN        77                0.0   \n",
       "1 2006-01-01   19:00:00    QUEENS       106                0.0   \n",
       "2 2006-01-01   05:51:00     BRONX        44                0.0   \n",
       "3 2006-01-01   02:34:00    QUEENS       114                0.0   \n",
       "4 2006-01-01   02:34:00    QUEENS       114                0.0   \n",
       "\n",
       "    LOCATION_DESC  STATISTICAL_MURDER_FLAG PERP_AGE_GROUP PERP_SEX  \\\n",
       "0       PVT HOUSE                     True            NaN      NaN   \n",
       "1            NONE                    False          18-24        M   \n",
       "2            NONE                    False          25-44        M   \n",
       "3  BAR/NIGHT CLUB                     True          25-44        M   \n",
       "4  BAR/NIGHT CLUB                     True          25-44        M   \n",
       "\n",
       "        PERP_RACE VIC_AGE_GROUP VIC_SEX        VIC_RACE  cluster_label  \\\n",
       "0             NaN         25-44       M           BLACK              1   \n",
       "1           BLACK         18-24       M           BLACK              2   \n",
       "2  WHITE HISPANIC         18-24       M  WHITE HISPANIC              0   \n",
       "3           BLACK         25-44       M           BLACK              0   \n",
       "4           BLACK         25-44       M           BLACK              0   \n",
       "\n",
       "      OCCUR_TIME_CONV  \n",
       "0 2023-10-16 12:30:00  \n",
       "1 2023-10-16 19:00:00  \n",
       "2 2023-10-16 05:51:00  \n",
       "3 2023-10-16 02:34:00  \n",
       "4 2023-10-16 02:34:00  "
      ]
     },
     "execution_count": 57,
     "metadata": {},
     "output_type": "execute_result"
    }
   ],
   "source": [
    "clustered_data['OCCUR_TIME_CONV'] = pd.to_datetime(clustered_data['OCCUR_TIME'])\n",
    "clustered_data.head()"
   ]
  },
  {
   "cell_type": "code",
   "execution_count": 58,
   "metadata": {},
   "outputs": [
    {
     "data": {
      "text/html": [
       "<div>\n",
       "<style scoped>\n",
       "    .dataframe tbody tr th:only-of-type {\n",
       "        vertical-align: middle;\n",
       "    }\n",
       "\n",
       "    .dataframe tbody tr th {\n",
       "        vertical-align: top;\n",
       "    }\n",
       "\n",
       "    .dataframe thead th {\n",
       "        text-align: right;\n",
       "    }\n",
       "</style>\n",
       "<table border=\"1\" class=\"dataframe\">\n",
       "  <thead>\n",
       "    <tr style=\"text-align: right;\">\n",
       "      <th></th>\n",
       "      <th>OCCUR_DATE</th>\n",
       "      <th>OCCUR_TIME</th>\n",
       "      <th>BORO</th>\n",
       "      <th>PRECINCT</th>\n",
       "      <th>JURISDICTION_CODE</th>\n",
       "      <th>LOCATION_DESC</th>\n",
       "      <th>STATISTICAL_MURDER_FLAG</th>\n",
       "      <th>PERP_AGE_GROUP</th>\n",
       "      <th>PERP_SEX</th>\n",
       "      <th>PERP_RACE</th>\n",
       "      <th>VIC_AGE_GROUP</th>\n",
       "      <th>VIC_SEX</th>\n",
       "      <th>VIC_RACE</th>\n",
       "      <th>cluster_label</th>\n",
       "      <th>OCCUR_TIME_CONV</th>\n",
       "      <th>year</th>\n",
       "      <th>month</th>\n",
       "      <th>week</th>\n",
       "      <th>day</th>\n",
       "      <th>hour</th>\n",
       "      <th>minutes</th>\n",
       "      <th>dayofweek</th>\n",
       "    </tr>\n",
       "  </thead>\n",
       "  <tbody>\n",
       "    <tr>\n",
       "      <th>0</th>\n",
       "      <td>2006-01-01</td>\n",
       "      <td>12:30:00</td>\n",
       "      <td>BROOKLYN</td>\n",
       "      <td>77</td>\n",
       "      <td>0.0</td>\n",
       "      <td>PVT HOUSE</td>\n",
       "      <td>True</td>\n",
       "      <td>NaN</td>\n",
       "      <td>NaN</td>\n",
       "      <td>NaN</td>\n",
       "      <td>25-44</td>\n",
       "      <td>M</td>\n",
       "      <td>BLACK</td>\n",
       "      <td>1</td>\n",
       "      <td>2023-10-16 12:30:00</td>\n",
       "      <td>2006</td>\n",
       "      <td>1</td>\n",
       "      <td>52</td>\n",
       "      <td>1</td>\n",
       "      <td>12</td>\n",
       "      <td>30</td>\n",
       "      <td>6</td>\n",
       "    </tr>\n",
       "    <tr>\n",
       "      <th>1</th>\n",
       "      <td>2006-01-01</td>\n",
       "      <td>19:00:00</td>\n",
       "      <td>QUEENS</td>\n",
       "      <td>106</td>\n",
       "      <td>0.0</td>\n",
       "      <td>NONE</td>\n",
       "      <td>False</td>\n",
       "      <td>18-24</td>\n",
       "      <td>M</td>\n",
       "      <td>BLACK</td>\n",
       "      <td>18-24</td>\n",
       "      <td>M</td>\n",
       "      <td>BLACK</td>\n",
       "      <td>2</td>\n",
       "      <td>2023-10-16 19:00:00</td>\n",
       "      <td>2006</td>\n",
       "      <td>1</td>\n",
       "      <td>52</td>\n",
       "      <td>1</td>\n",
       "      <td>19</td>\n",
       "      <td>0</td>\n",
       "      <td>6</td>\n",
       "    </tr>\n",
       "    <tr>\n",
       "      <th>2</th>\n",
       "      <td>2006-01-01</td>\n",
       "      <td>05:51:00</td>\n",
       "      <td>BRONX</td>\n",
       "      <td>44</td>\n",
       "      <td>0.0</td>\n",
       "      <td>NONE</td>\n",
       "      <td>False</td>\n",
       "      <td>25-44</td>\n",
       "      <td>M</td>\n",
       "      <td>WHITE HISPANIC</td>\n",
       "      <td>18-24</td>\n",
       "      <td>M</td>\n",
       "      <td>WHITE HISPANIC</td>\n",
       "      <td>0</td>\n",
       "      <td>2023-10-16 05:51:00</td>\n",
       "      <td>2006</td>\n",
       "      <td>1</td>\n",
       "      <td>52</td>\n",
       "      <td>1</td>\n",
       "      <td>5</td>\n",
       "      <td>51</td>\n",
       "      <td>6</td>\n",
       "    </tr>\n",
       "    <tr>\n",
       "      <th>3</th>\n",
       "      <td>2006-01-01</td>\n",
       "      <td>02:34:00</td>\n",
       "      <td>QUEENS</td>\n",
       "      <td>114</td>\n",
       "      <td>0.0</td>\n",
       "      <td>BAR/NIGHT CLUB</td>\n",
       "      <td>True</td>\n",
       "      <td>25-44</td>\n",
       "      <td>M</td>\n",
       "      <td>BLACK</td>\n",
       "      <td>25-44</td>\n",
       "      <td>M</td>\n",
       "      <td>BLACK</td>\n",
       "      <td>0</td>\n",
       "      <td>2023-10-16 02:34:00</td>\n",
       "      <td>2006</td>\n",
       "      <td>1</td>\n",
       "      <td>52</td>\n",
       "      <td>1</td>\n",
       "      <td>2</td>\n",
       "      <td>34</td>\n",
       "      <td>6</td>\n",
       "    </tr>\n",
       "    <tr>\n",
       "      <th>4</th>\n",
       "      <td>2006-01-01</td>\n",
       "      <td>02:34:00</td>\n",
       "      <td>QUEENS</td>\n",
       "      <td>114</td>\n",
       "      <td>0.0</td>\n",
       "      <td>BAR/NIGHT CLUB</td>\n",
       "      <td>True</td>\n",
       "      <td>25-44</td>\n",
       "      <td>M</td>\n",
       "      <td>BLACK</td>\n",
       "      <td>25-44</td>\n",
       "      <td>M</td>\n",
       "      <td>BLACK</td>\n",
       "      <td>0</td>\n",
       "      <td>2023-10-16 02:34:00</td>\n",
       "      <td>2006</td>\n",
       "      <td>1</td>\n",
       "      <td>52</td>\n",
       "      <td>1</td>\n",
       "      <td>2</td>\n",
       "      <td>34</td>\n",
       "      <td>6</td>\n",
       "    </tr>\n",
       "  </tbody>\n",
       "</table>\n",
       "</div>"
      ],
      "text/plain": [
       "  OCCUR_DATE OCCUR_TIME      BORO  PRECINCT  JURISDICTION_CODE  \\\n",
       "0 2006-01-01   12:30:00  BROOKLYN        77                0.0   \n",
       "1 2006-01-01   19:00:00    QUEENS       106                0.0   \n",
       "2 2006-01-01   05:51:00     BRONX        44                0.0   \n",
       "3 2006-01-01   02:34:00    QUEENS       114                0.0   \n",
       "4 2006-01-01   02:34:00    QUEENS       114                0.0   \n",
       "\n",
       "    LOCATION_DESC  STATISTICAL_MURDER_FLAG PERP_AGE_GROUP PERP_SEX  \\\n",
       "0       PVT HOUSE                     True            NaN      NaN   \n",
       "1            NONE                    False          18-24        M   \n",
       "2            NONE                    False          25-44        M   \n",
       "3  BAR/NIGHT CLUB                     True          25-44        M   \n",
       "4  BAR/NIGHT CLUB                     True          25-44        M   \n",
       "\n",
       "        PERP_RACE VIC_AGE_GROUP VIC_SEX        VIC_RACE  cluster_label  \\\n",
       "0             NaN         25-44       M           BLACK              1   \n",
       "1           BLACK         18-24       M           BLACK              2   \n",
       "2  WHITE HISPANIC         18-24       M  WHITE HISPANIC              0   \n",
       "3           BLACK         25-44       M           BLACK              0   \n",
       "4           BLACK         25-44       M           BLACK              0   \n",
       "\n",
       "      OCCUR_TIME_CONV  year  month  week  day  hour  minutes  dayofweek  \n",
       "0 2023-10-16 12:30:00  2006      1    52    1    12       30          6  \n",
       "1 2023-10-16 19:00:00  2006      1    52    1    19        0          6  \n",
       "2 2023-10-16 05:51:00  2006      1    52    1     5       51          6  \n",
       "3 2023-10-16 02:34:00  2006      1    52    1     2       34          6  \n",
       "4 2023-10-16 02:34:00  2006      1    52    1     2       34          6  "
      ]
     },
     "execution_count": 58,
     "metadata": {},
     "output_type": "execute_result"
    }
   ],
   "source": [
    "clustered_data['year'] = clustered_data['OCCUR_DATE'].dt.year\n",
    "clustered_data['month'] = clustered_data['OCCUR_DATE'].dt.month\n",
    "clustered_data['week'] = clustered_data['OCCUR_DATE'].dt.week\n",
    "clustered_data['day'] = clustered_data['OCCUR_DATE'].dt.day\n",
    "clustered_data['hour'] = clustered_data['OCCUR_TIME_CONV'].dt.hour\n",
    "clustered_data['minutes'] = clustered_data['OCCUR_TIME_CONV'].dt.minute\n",
    "clustered_data['dayofweek'] = clustered_data['OCCUR_DATE'].dt.dayofweek\n",
    "clustered_data.head()"
   ]
  },
  {
   "cell_type": "code",
   "execution_count": 59,
   "metadata": {},
   "outputs": [],
   "source": [
    "clustered_data.drop(['year', 'minutes', 'OCCUR_TIME_CONV', 'OCCUR_DATE','OCCUR_TIME'],axis=1, inplace=True)"
   ]
  },
  {
   "cell_type": "code",
   "execution_count": 60,
   "metadata": {},
   "outputs": [],
   "source": [
    "# check = clustered_data.loc[clustered_data['STATISTICAL_MURDER_FLAG'] == True]\n",
    "# check['minutes'].value_counts()"
   ]
  },
  {
   "cell_type": "code",
   "execution_count": 61,
   "metadata": {},
   "outputs": [],
   "source": [
    "cats=['BORO', 'LOCATION_DESC', 'PERP_AGE_GROUP', 'PERP_SEX', 'PERP_RACE', 'VIC_AGE_GROUP', 'VIC_SEX', 'VIC_RACE']\n",
    "for cat in cats:\n",
    "    clustered_data[cat] = clustered_data[cat].astype('category')"
   ]
  },
  {
   "cell_type": "code",
   "execution_count": 71,
   "metadata": {},
   "outputs": [],
   "source": [
    "y = clustered_data['STATISTICAL_MURDER_FLAG']\n",
    "cd = clustered_data.copy()\n",
    "cd.drop(['STATISTICAL_MURDER_FLAG'], axis = 1, inplace = True)\n",
    "X = cd\n",
    "\n",
    "X_train, X_test, y_train, y_test = train_test_split(X, y, test_size=0.2, random_state=7)"
   ]
  },
  {
   "cell_type": "code",
   "execution_count": 76,
   "metadata": {},
   "outputs": [
    {
     "data": {
      "text/plain": [
       "BORO                 category\n",
       "PRECINCT                int64\n",
       "JURISDICTION_CODE     float64\n",
       "LOCATION_DESC        category\n",
       "PERP_AGE_GROUP       category\n",
       "PERP_SEX             category\n",
       "PERP_RACE            category\n",
       "VIC_AGE_GROUP        category\n",
       "VIC_SEX              category\n",
       "VIC_RACE             category\n",
       "cluster_label           int32\n",
       "month                   int64\n",
       "week                    int64\n",
       "day                     int64\n",
       "hour                    int64\n",
       "dayofweek               int64\n",
       "dtype: object"
      ]
     },
     "execution_count": 76,
     "metadata": {},
     "output_type": "execute_result"
    }
   ],
   "source": [
    "X.dtypes"
   ]
  },
  {
   "cell_type": "code",
   "execution_count": 73,
   "metadata": {},
   "outputs": [
    {
     "name": "stdout",
     "output_type": "stream",
     "text": [
      "Accuracy: 77.53%\n"
     ]
    }
   ],
   "source": [
    "clf = lgb.LGBMClassifier(n_estimators=10000, n_jobs=-1, scale_pos_weight=6)\n",
    "clf.fit(X_train, y_train)\n",
    "y_pred = clf.predict(X_test)\n",
    "#predictions = [round(value) for value in y_pred]\n",
    "accuracy = accuracy_score(y_test, y_pred)\n",
    "print(\"Accuracy: %.2f%%\" % (accuracy * 100.0))"
   ]
  },
  {
   "cell_type": "code",
   "execution_count": 74,
   "metadata": {},
   "outputs": [
    {
     "data": {
      "image/png": "[encoded data removed]",
      "text/plain": [
       "<Figure size 1080x720 with 1 Axes>"
      ]
     },
     "metadata": {
      "needs_background": "light"
     },
     "output_type": "display_data"
    }
   ],
   "source": [
    "feature_imp = pd.DataFrame(sorted(zip(clf.feature_importances_,[x.lower() for x in X_train.columns])), columns=['Value','Feature'])\n",
    "plt.figure(figsize=(15, 10))\n",
    "sns.barplot(x=\"Value\", y=\"Feature\", data=feature_imp.sort_values(by=\"Value\", ascending=False))\n",
    "plt.title('LightGBM Features')\n",
    "plt.tight_layout()\n",
    "plt.savefig('lgbm_importances_shootings.jpg')\n",
    "plt.show()"
   ]
  },
  {
   "cell_type": "code",
   "execution_count": 75,
   "metadata": {},
   "outputs": [
    {
     "name": "stdout",
     "output_type": "stream",
     "text": [
      "0.6268425135764157\n",
      "              precision    recall  f1-score   support\n",
      "\n",
      "       False       0.92      0.77      0.84      6493\n",
      "        True       0.52      0.78      0.63      2068\n",
      "\n",
      "    accuracy                           0.78      8561\n",
      "   macro avg       0.72      0.78      0.73      8561\n",
      "weighted avg       0.82      0.78      0.79      8561\n",
      "\n"
     ]
    }
   ],
   "source": [
    "from sklearn.metrics import f1_score\n",
    "from sklearn.metrics import classification_report\n",
    "\n",
    "\n",
    "print(f1_score(y_test, y_pred))\n",
    "print(classification_report(y_test, y_pred))"
   ]
  },
  {
   "cell_type": "code",
   "execution_count": 77,
   "metadata": {},
   "outputs": [
    {
     "name": "stdout",
     "output_type": "stream",
     "text": [
      "Accuracy: 61.64%\n"
     ]
    },
    {
     "data": {
      "image/png": "[encoded data removed]",
      "text/plain": [
       "<Figure size 1080x720 with 1 Axes>"
      ]
     },
     "metadata": {
      "needs_background": "light"
     },
     "output_type": "display_data"
    },
    {
     "name": "stdout",
     "output_type": "stream",
     "text": [
      "0.5210035005834306\n",
      "              precision    recall  f1-score   support\n",
      "\n",
      "       False       0.93      0.54      0.68      6493\n",
      "        True       0.37      0.86      0.52      2068\n",
      "\n",
      "    accuracy                           0.62      8561\n",
      "   macro avg       0.65      0.70      0.60      8561\n",
      "weighted avg       0.79      0.62      0.64      8561\n",
      "\n"
     ]
    }
   ],
   "source": [
    "X_train_no_time = X_train.copy()\n",
    "X_test_no_time = X_test.copy()\n",
    "\n",
    "\n",
    "\n",
    "X_train_no_time.drop(['month', 'week', \n",
    "          'hour', 'day', 'dayofweek'], axis = 1, inplace = True)\n",
    "X_test_no_time.drop(['month', 'week', \n",
    "          'hour', 'day', 'dayofweek'], axis = 1, inplace = True)\n",
    "\n",
    "\n",
    "clf = lgb.LGBMClassifier(n_estimators=10000, n_jobs=-1, scale_pos_weight=6)\n",
    "clf.fit(X_train_no_time, y_train)\n",
    "y_pred = clf.predict(X_test_no_time)\n",
    "#predictions = [round(value) for value in y_pred]\n",
    "accuracy = accuracy_score(y_test, y_pred)\n",
    "print(\"Accuracy: %.2f%%\" % (accuracy * 100.0))\n",
    "feature_imp = pd.DataFrame(sorted(zip(clf.feature_importances_,[x.lower() for x in X_train_no_time.columns])), columns=['Value','Feature'])\n",
    "plt.figure(figsize=(15, 10))\n",
    "sns.barplot(x=\"Value\", y=\"Feature\", data=feature_imp.sort_values(by=\"Value\", ascending=False))\n",
    "plt.title('LightGBM Features')\n",
    "plt.tight_layout()\n",
    "#plt.savefig('lgbm_importances_shootings.jpg')\n",
    "plt.show()\n",
    "\n",
    "from sklearn.metrics import f1_score\n",
    "from sklearn.metrics import classification_report\n",
    "\n",
    "\n",
    "print(f1_score(y_test, y_pred))\n",
    "print(classification_report(y_test, y_pred))"
   ]
  }
 ],
 "metadata": {
  "kernelspec": {
   "display_name": "Python 3 (ipykernel)",
   "language": "python",
   "name": "python3"
  },
  "language_info": {
   "codemirror_mode": {
    "name": "ipython",
    "version": 3
   },
   "file_extension": ".py",
   "mimetype": "text/x-python",
   "name": "python",
   "nbconvert_exporter": "python",
   "pygments_lexer": "ipython3",
   "version": "3.9.7"
  }
 },
 "nbformat": 4,
 "nbformat_minor": 4
}
