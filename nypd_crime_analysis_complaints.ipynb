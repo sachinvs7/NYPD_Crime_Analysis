{
 "cells": [
  {
   "cell_type": "code",
   "execution_count": 1,
   "id": "e5d91036",
   "metadata": {
    "execution": {
     "iopub.execute_input": "2023-10-17T17:28:59.126995Z",
     "iopub.status.busy": "2023-10-17T17:28:59.126198Z",
     "iopub.status.idle": "2023-10-17T17:29:40.318661Z",
     "shell.execute_reply": "2023-10-17T17:29:40.317499Z",
     "shell.execute_reply.started": "2023-10-17T17:28:59.126955Z"
    }
   },
   "outputs": [
    {
     "name": "stderr",
     "output_type": "stream",
     "text": [
      "/tmp/ipykernel_3132/3659503197.py:8: DtypeWarning: Columns (18,20) have mixed types. Specify dtype option on import or set low_memory=False.\n",
      "  raw_data = pd.read_csv(\"/kaggle/input/nypd-complaints-historic/NYPD_Complaint_Data_Historic.csv\")\n"
     ]
    }
   ],
   "source": [
    "import os\n",
    "#os.environ['CUDA_VISIBLE_DEVICES'] = '-1'\n",
    "\n",
    "import numpy as np\n",
    "import pandas as pd\n",
    "\n",
    "\n",
    "raw_data = pd.read_csv(\"/kaggle/input/nypd-complaints-historic/NYPD_Complaint_Data_Historic.csv\")"
   ]
  },
  {
   "cell_type": "code",
   "execution_count": 2,
   "id": "6f963bcd",
   "metadata": {
    "execution": {
     "iopub.execute_input": "2023-10-17T17:29:40.320817Z",
     "iopub.status.busy": "2023-10-17T17:29:40.320528Z",
     "iopub.status.idle": "2023-10-17T17:29:40.329487Z",
     "shell.execute_reply": "2023-10-17T17:29:40.328610Z",
     "shell.execute_reply.started": "2023-10-17T17:29:40.320792Z"
    }
   },
   "outputs": [
    {
     "data": {
      "text/plain": [
       "(7375993, 35)"
      ]
     },
     "execution_count": 2,
     "metadata": {},
     "output_type": "execute_result"
    }
   ],
   "source": [
    "raw_data.shape"
   ]
  },
  {
   "cell_type": "code",
   "execution_count": 3,
   "id": "de468570",
   "metadata": {
    "execution": {
     "iopub.execute_input": "2023-10-17T17:29:40.330689Z",
     "iopub.status.busy": "2023-10-17T17:29:40.330463Z",
     "iopub.status.idle": "2023-10-17T17:29:40.364328Z",
     "shell.execute_reply": "2023-10-17T17:29:40.363304Z",
     "shell.execute_reply.started": "2023-10-17T17:29:40.330668Z"
    }
   },
   "outputs": [
    {
     "data": {
      "text/html": [
       "<div>\n",
       "<style scoped>\n",
       "    .dataframe tbody tr th:only-of-type {\n",
       "        vertical-align: middle;\n",
       "    }\n",
       "\n",
       "    .dataframe tbody tr th {\n",
       "        vertical-align: top;\n",
       "    }\n",
       "\n",
       "    .dataframe thead th {\n",
       "        text-align: right;\n",
       "    }\n",
       "</style>\n",
       "<table border=\"1\" class=\"dataframe\">\n",
       "  <thead>\n",
       "    <tr style=\"text-align: right;\">\n",
       "      <th></th>\n",
       "      <th>CMPLNT_NUM</th>\n",
       "      <th>CMPLNT_FR_DT</th>\n",
       "      <th>CMPLNT_FR_TM</th>\n",
       "      <th>CMPLNT_TO_DT</th>\n",
       "      <th>CMPLNT_TO_TM</th>\n",
       "      <th>ADDR_PCT_CD</th>\n",
       "      <th>RPT_DT</th>\n",
       "      <th>KY_CD</th>\n",
       "      <th>OFNS_DESC</th>\n",
       "      <th>PD_CD</th>\n",
       "      <th>...</th>\n",
       "      <th>SUSP_SEX</th>\n",
       "      <th>TRANSIT_DISTRICT</th>\n",
       "      <th>Latitude</th>\n",
       "      <th>Longitude</th>\n",
       "      <th>Lat_Lon</th>\n",
       "      <th>PATROL_BORO</th>\n",
       "      <th>STATION_NAME</th>\n",
       "      <th>VIC_AGE_GROUP</th>\n",
       "      <th>VIC_RACE</th>\n",
       "      <th>VIC_SEX</th>\n",
       "    </tr>\n",
       "  </thead>\n",
       "  <tbody>\n",
       "    <tr>\n",
       "      <th>0</th>\n",
       "      <td>394506329</td>\n",
       "      <td>12/31/2019</td>\n",
       "      <td>17:30:00</td>\n",
       "      <td>NaN</td>\n",
       "      <td>NaN</td>\n",
       "      <td>32.0</td>\n",
       "      <td>12/31/2019</td>\n",
       "      <td>118</td>\n",
       "      <td>DANGEROUS WEAPONS</td>\n",
       "      <td>793.0</td>\n",
       "      <td>...</td>\n",
       "      <td>NaN</td>\n",
       "      <td>NaN</td>\n",
       "      <td>40.820927</td>\n",
       "      <td>-73.943324</td>\n",
       "      <td>(40.82092679700002, -73.94332421899996)</td>\n",
       "      <td>PATROL BORO MAN NORTH</td>\n",
       "      <td>NaN</td>\n",
       "      <td>UNKNOWN</td>\n",
       "      <td>UNKNOWN</td>\n",
       "      <td>E</td>\n",
       "    </tr>\n",
       "    <tr>\n",
       "      <th>1</th>\n",
       "      <td>968873685</td>\n",
       "      <td>12/29/2019</td>\n",
       "      <td>16:31:00</td>\n",
       "      <td>12/29/2019</td>\n",
       "      <td>16:54:00</td>\n",
       "      <td>47.0</td>\n",
       "      <td>12/29/2019</td>\n",
       "      <td>113</td>\n",
       "      <td>FORGERY</td>\n",
       "      <td>729.0</td>\n",
       "      <td>...</td>\n",
       "      <td>NaN</td>\n",
       "      <td>NaN</td>\n",
       "      <td>40.885701</td>\n",
       "      <td>-73.861640</td>\n",
       "      <td>(40.885701406000074, -73.86164032499995)</td>\n",
       "      <td>PATROL BORO BRONX</td>\n",
       "      <td>NaN</td>\n",
       "      <td>UNKNOWN</td>\n",
       "      <td>UNKNOWN</td>\n",
       "      <td>E</td>\n",
       "    </tr>\n",
       "    <tr>\n",
       "      <th>2</th>\n",
       "      <td>509837549</td>\n",
       "      <td>12/15/2019</td>\n",
       "      <td>18:45:00</td>\n",
       "      <td>NaN</td>\n",
       "      <td>NaN</td>\n",
       "      <td>109.0</td>\n",
       "      <td>12/29/2019</td>\n",
       "      <td>578</td>\n",
       "      <td>HARRASSMENT 2</td>\n",
       "      <td>638.0</td>\n",
       "      <td>...</td>\n",
       "      <td>M</td>\n",
       "      <td>NaN</td>\n",
       "      <td>40.742281</td>\n",
       "      <td>-73.819824</td>\n",
       "      <td>(40.74228115600005, -73.81982408)</td>\n",
       "      <td>PATROL BORO QUEENS NORTH</td>\n",
       "      <td>NaN</td>\n",
       "      <td>25-44</td>\n",
       "      <td>WHITE HISPANIC</td>\n",
       "      <td>F</td>\n",
       "    </tr>\n",
       "    <tr>\n",
       "      <th>3</th>\n",
       "      <td>352454313</td>\n",
       "      <td>12/28/2019</td>\n",
       "      <td>01:00:00</td>\n",
       "      <td>NaN</td>\n",
       "      <td>NaN</td>\n",
       "      <td>47.0</td>\n",
       "      <td>12/28/2019</td>\n",
       "      <td>126</td>\n",
       "      <td>MISCELLANEOUS PENAL LAW</td>\n",
       "      <td>117.0</td>\n",
       "      <td>...</td>\n",
       "      <td>M</td>\n",
       "      <td>NaN</td>\n",
       "      <td>40.875311</td>\n",
       "      <td>-73.847545</td>\n",
       "      <td>(40.87531145100007, -73.84754521099995)</td>\n",
       "      <td>PATROL BORO BRONX</td>\n",
       "      <td>NaN</td>\n",
       "      <td>UNKNOWN</td>\n",
       "      <td>UNKNOWN</td>\n",
       "      <td>E</td>\n",
       "    </tr>\n",
       "    <tr>\n",
       "      <th>4</th>\n",
       "      <td>248803469</td>\n",
       "      <td>09/05/2008</td>\n",
       "      <td>21:41:00</td>\n",
       "      <td>NaN</td>\n",
       "      <td>NaN</td>\n",
       "      <td>NaN</td>\n",
       "      <td>09/05/2008</td>\n",
       "      <td>101</td>\n",
       "      <td>MURDER &amp; NON-NEGL. MANSLAUGHTER</td>\n",
       "      <td>NaN</td>\n",
       "      <td>...</td>\n",
       "      <td>NaN</td>\n",
       "      <td>NaN</td>\n",
       "      <td>40.698827</td>\n",
       "      <td>-73.938819</td>\n",
       "      <td>(40.698827283, -73.938819047)</td>\n",
       "      <td>NaN</td>\n",
       "      <td>NaN</td>\n",
       "      <td>25-44</td>\n",
       "      <td>BLACK</td>\n",
       "      <td>M</td>\n",
       "    </tr>\n",
       "  </tbody>\n",
       "</table>\n",
       "<p>5 rows × 35 columns</p>\n",
       "</div>"
      ],
      "text/plain": [
       "   CMPLNT_NUM CMPLNT_FR_DT CMPLNT_FR_TM CMPLNT_TO_DT CMPLNT_TO_TM  \\\n",
       "0   394506329   12/31/2019     17:30:00          NaN          NaN   \n",
       "1   968873685   12/29/2019     16:31:00   12/29/2019     16:54:00   \n",
       "2   509837549   12/15/2019     18:45:00          NaN          NaN   \n",
       "3   352454313   12/28/2019     01:00:00          NaN          NaN   \n",
       "4   248803469   09/05/2008     21:41:00          NaN          NaN   \n",
       "\n",
       "   ADDR_PCT_CD      RPT_DT  KY_CD                        OFNS_DESC  PD_CD  \\\n",
       "0         32.0  12/31/2019    118                DANGEROUS WEAPONS  793.0   \n",
       "1         47.0  12/29/2019    113                          FORGERY  729.0   \n",
       "2        109.0  12/29/2019    578                    HARRASSMENT 2  638.0   \n",
       "3         47.0  12/28/2019    126          MISCELLANEOUS PENAL LAW  117.0   \n",
       "4          NaN  09/05/2008    101  MURDER & NON-NEGL. MANSLAUGHTER    NaN   \n",
       "\n",
       "   ... SUSP_SEX TRANSIT_DISTRICT   Latitude  Longitude  \\\n",
       "0  ...      NaN              NaN  40.820927 -73.943324   \n",
       "1  ...      NaN              NaN  40.885701 -73.861640   \n",
       "2  ...        M              NaN  40.742281 -73.819824   \n",
       "3  ...        M              NaN  40.875311 -73.847545   \n",
       "4  ...      NaN              NaN  40.698827 -73.938819   \n",
       "\n",
       "                                    Lat_Lon               PATROL_BORO  \\\n",
       "0   (40.82092679700002, -73.94332421899996)     PATROL BORO MAN NORTH   \n",
       "1  (40.885701406000074, -73.86164032499995)         PATROL BORO BRONX   \n",
       "2         (40.74228115600005, -73.81982408)  PATROL BORO QUEENS NORTH   \n",
       "3   (40.87531145100007, -73.84754521099995)         PATROL BORO BRONX   \n",
       "4             (40.698827283, -73.938819047)                       NaN   \n",
       "\n",
       "  STATION_NAME  VIC_AGE_GROUP        VIC_RACE VIC_SEX  \n",
       "0          NaN        UNKNOWN         UNKNOWN       E  \n",
       "1          NaN        UNKNOWN         UNKNOWN       E  \n",
       "2          NaN          25-44  WHITE HISPANIC       F  \n",
       "3          NaN        UNKNOWN         UNKNOWN       E  \n",
       "4          NaN          25-44           BLACK       M  \n",
       "\n",
       "[5 rows x 35 columns]"
      ]
     },
     "execution_count": 3,
     "metadata": {},
     "output_type": "execute_result"
    }
   ],
   "source": [
    "raw_data.head(5)"
   ]
  },
  {
   "cell_type": "code",
   "execution_count": 4,
   "id": "a36ec6e0",
   "metadata": {
    "execution": {
     "iopub.execute_input": "2023-10-17T17:29:40.367035Z",
     "iopub.status.busy": "2023-10-17T17:29:40.366710Z",
     "iopub.status.idle": "2023-10-17T17:29:40.983393Z",
     "shell.execute_reply": "2023-10-17T17:29:40.982075Z",
     "shell.execute_reply.started": "2023-10-17T17:29:40.366989Z"
    }
   },
   "outputs": [],
   "source": [
    "raw_data = raw_data[[\"CMPLNT_FR_DT\", \"Latitude\", \"Longitude\"]].dropna()"
   ]
  },
  {
   "cell_type": "code",
   "execution_count": 5,
   "id": "248a857c",
   "metadata": {
    "execution": {
     "iopub.execute_input": "2023-10-17T17:29:40.985045Z",
     "iopub.status.busy": "2023-10-17T17:29:40.984700Z",
     "iopub.status.idle": "2023-10-17T17:29:42.140419Z",
     "shell.execute_reply": "2023-10-17T17:29:42.139367Z",
     "shell.execute_reply.started": "2023-10-17T17:29:40.985016Z"
    }
   },
   "outputs": [],
   "source": [
    "day_one = np.datetime64('2006-01-01')\n",
    "\n",
    "# Convert the date column to datetime format and filter valid dates after '2006-01-01'\n",
    "valid_dates = pd.to_datetime(raw_data['CMPLNT_FR_DT'], format='%m/%d/%Y', errors='coerce')\n",
    "valid_dates = valid_dates[(valid_dates >= day_one)]\n",
    "\n",
    "# Calculate the number of days since '2006-01-01' for valid dates and cast to float\n",
    "days_since_2006 = (valid_dates - day_one).dt.days.astype(float)"
   ]
  },
  {
   "cell_type": "code",
   "execution_count": 6,
   "id": "b97e7cee",
   "metadata": {
    "execution": {
     "iopub.execute_input": "2023-10-17T17:29:42.142249Z",
     "iopub.status.busy": "2023-10-17T17:29:42.141606Z",
     "iopub.status.idle": "2023-10-17T17:29:42.149795Z",
     "shell.execute_reply": "2023-10-17T17:29:42.148878Z",
     "shell.execute_reply.started": "2023-10-17T17:29:42.142219Z"
    }
   },
   "outputs": [
    {
     "data": {
      "text/plain": [
       "0          5112.0\n",
       "1          5110.0\n",
       "2          5096.0\n",
       "3          5109.0\n",
       "4           978.0\n",
       "            ...  \n",
       "7375988    4733.0\n",
       "7375989    4538.0\n",
       "7375990    4423.0\n",
       "7375991    4727.0\n",
       "7375992    4512.0\n",
       "Name: CMPLNT_FR_DT, Length: 7338505, dtype: float64"
      ]
     },
     "execution_count": 6,
     "metadata": {},
     "output_type": "execute_result"
    }
   ],
   "source": [
    "days_since_2006"
   ]
  },
  {
   "cell_type": "code",
   "execution_count": 7,
   "id": "36f4cc91",
   "metadata": {
    "execution": {
     "iopub.execute_input": "2023-10-17T17:29:42.151254Z",
     "iopub.status.busy": "2023-10-17T17:29:42.150982Z",
     "iopub.status.idle": "2023-10-17T17:29:42.824437Z",
     "shell.execute_reply": "2023-10-17T17:29:42.823262Z",
     "shell.execute_reply.started": "2023-10-17T17:29:42.151230Z"
    }
   },
   "outputs": [],
   "source": [
    "rd = raw_data.copy()\n",
    "\n",
    "# Number of standard deviations for filtering\n",
    "std_devs = 3\n",
    "\n",
    "# Outliers for the 'Latitude' column\n",
    "lat_mean = rd['Latitude'].mean()\n",
    "lat_std = rd['Latitude'].std()\n",
    "rd = rd[(rd['Latitude'] > lat_mean - std_devs * lat_std) & (rd['Latitude'] < lat_mean + std_devs * lat_std)]\n",
    "\n",
    "# Outliers for the 'Longitude' column\n",
    "lon_mean = rd['Longitude'].mean()\n",
    "lon_std = rd['Longitude'].std()\n",
    "rd = rd[(rd['Longitude'] > lon_mean - std_devs * lon_std) & (rd['Longitude'] < lon_mean + std_devs * lon_std)]"
   ]
  },
  {
   "cell_type": "code",
   "execution_count": 8,
   "id": "766114a1",
   "metadata": {
    "execution": {
     "iopub.execute_input": "2023-10-17T17:29:42.825979Z",
     "iopub.status.busy": "2023-10-17T17:29:42.825687Z",
     "iopub.status.idle": "2023-10-17T17:29:46.138042Z",
     "shell.execute_reply": "2023-10-17T17:29:46.136966Z",
     "shell.execute_reply.started": "2023-10-17T17:29:42.825954Z"
    }
   },
   "outputs": [],
   "source": [
    "min_lat, max_lat = min(rd[\"Latitude\"]), max(rd[\"Latitude\"])\n",
    "min_lng, max_lng = min(rd[\"Longitude\"]), max(rd[\"Longitude\"])"
   ]
  },
  {
   "cell_type": "code",
   "execution_count": 9,
   "id": "c9385c86",
   "metadata": {
    "execution": {
     "iopub.execute_input": "2023-10-17T17:29:46.139518Z",
     "iopub.status.busy": "2023-10-17T17:29:46.139234Z",
     "iopub.status.idle": "2023-10-17T17:29:55.622638Z",
     "shell.execute_reply": "2023-10-17T17:29:55.621581Z",
     "shell.execute_reply.started": "2023-10-17T17:29:46.139492Z"
    }
   },
   "outputs": [],
   "source": [
    "GRID_LNG_DIM = 100\n",
    "GRID_LAT_DIM = 120\n",
    "\n",
    "# Calculate step sizes for latitude and longitude grids\n",
    "lng_step = (max_lng - min_lng) / (GRID_LNG_DIM - 1)\n",
    "lat_step = (max_lat - min_lat) / (GRID_LAT_DIM - 1)\n",
    "\n",
    "def to_grid_lat(lat):\n",
    "    return ((lat - min_lat) / lat_step)\n",
    "\n",
    "def to_grid_lng(lng):\n",
    "    return ((lng - min_lng) / lng_step)\n",
    "\n",
    "data = pd.DataFrame({\n",
    "    'CMPLNT_FR_DT': rd['CMPLNT_FR_DT'],\n",
    "    'Days': days_since_2006,\n",
    "    'GridLat': to_grid_lat(rd['Latitude']),\n",
    "    'GridLng': to_grid_lng(rd['Longitude'])\n",
    "})\n",
    "\n",
    "data = data.dropna()\n",
    "data['Days'] = data['Days'].astype('int16')\n",
    "data[\"GridLat\"] = data[\"GridLat\"].astype(\"int16\")\n",
    "data[\"GridLng\"] = data[\"GridLng\"].astype(\"int16\")\n",
    "data = data.sort_values(by='Days')"
   ]
  },
  {
   "cell_type": "code",
   "execution_count": 10,
   "id": "f6213c0b",
   "metadata": {
    "execution": {
     "iopub.execute_input": "2023-10-17T17:29:55.625673Z",
     "iopub.status.busy": "2023-10-17T17:29:55.625395Z",
     "iopub.status.idle": "2023-10-17T17:29:55.629884Z",
     "shell.execute_reply": "2023-10-17T17:29:55.628909Z",
     "shell.execute_reply.started": "2023-10-17T17:29:55.625650Z"
    }
   },
   "outputs": [],
   "source": [
    "# data"
   ]
  },
  {
   "cell_type": "code",
   "execution_count": 11,
   "id": "9ca4e0d4",
   "metadata": {
    "execution": {
     "iopub.execute_input": "2023-10-17T17:29:55.631107Z",
     "iopub.status.busy": "2023-10-17T17:29:55.630849Z",
     "iopub.status.idle": "2023-10-17T17:29:56.786682Z",
     "shell.execute_reply": "2023-10-17T17:29:56.785780Z",
     "shell.execute_reply.started": "2023-10-17T17:29:55.631076Z"
    }
   },
   "outputs": [
    {
     "data": {
      "text/plain": [
       "array([0., 0., 0., 0., 0., 0., 0., 0., 0., 0., 0., 0., 0., 0., 0., 0., 0.,\n",
       "       0., 0., 0., 0., 0., 0., 0., 0., 0., 0., 0., 0., 1., 1., 0., 0., 0.,\n",
       "       0., 0., 1., 1., 0., 0., 0., 0., 0., 0., 0., 0., 0., 0., 0., 0., 0.,\n",
       "       0., 0., 0., 0., 0., 0., 0., 0., 0., 0., 0., 0., 0., 0., 0., 0., 0.,\n",
       "       0., 0., 0., 0., 0., 0., 0., 0., 0., 0., 0., 0., 0., 0., 0., 0., 0.,\n",
       "       0., 0., 0., 0., 0., 0., 0., 0., 0., 0., 0., 0., 0., 0., 0., 0., 0.,\n",
       "       0., 0., 0., 0., 0., 0., 0., 0., 0., 0., 0., 0., 0., 0., 0., 0., 0.,\n",
       "       0., 0.], dtype=float32)"
      ]
     },
     "execution_count": 11,
     "metadata": {},
     "output_type": "execute_result"
    }
   ],
   "source": [
    "crime_grid_n = np.zeros((max(data[\"Days\"]) + 1, GRID_LNG_DIM + 1, GRID_LAT_DIM + 1), dtype=\"float32\")\n",
    "crime_grid_n[data[\"Days\"], data[\"GridLng\"], data[\"GridLat\"]] = 1\n",
    "crime_grid_n[15][30]"
   ]
  },
  {
   "cell_type": "code",
   "execution_count": 12,
   "id": "eb0ff29b",
   "metadata": {
    "execution": {
     "iopub.execute_input": "2023-10-17T17:29:56.788211Z",
     "iopub.status.busy": "2023-10-17T17:29:56.787928Z",
     "iopub.status.idle": "2023-10-17T17:29:56.792056Z",
     "shell.execute_reply": "2023-10-17T17:29:56.791243Z",
     "shell.execute_reply.started": "2023-10-17T17:29:56.788187Z"
    }
   },
   "outputs": [],
   "source": [
    "# len(crime_grid_n[crime_grid_n == 1]) / crime_grid_n.size"
   ]
  },
  {
   "cell_type": "code",
   "execution_count": 13,
   "id": "55162930",
   "metadata": {
    "execution": {
     "iopub.execute_input": "2023-10-17T17:29:56.793321Z",
     "iopub.status.busy": "2023-10-17T17:29:56.793074Z",
     "iopub.status.idle": "2023-10-17T17:29:56.803203Z",
     "shell.execute_reply": "2023-10-17T17:29:56.802367Z",
     "shell.execute_reply.started": "2023-10-17T17:29:56.793299Z"
    }
   },
   "outputs": [],
   "source": [
    "index = np.arange(1,31)[None, :] + np.arange(5449)[:, None] \n",
    "# Use the past 29 days to predict crime occurrences on the 30th day"
   ]
  },
  {
   "cell_type": "code",
   "execution_count": 14,
   "id": "d930e790",
   "metadata": {
    "execution": {
     "iopub.execute_input": "2023-10-17T17:29:56.805069Z",
     "iopub.status.busy": "2023-10-17T17:29:56.804294Z",
     "iopub.status.idle": "2023-10-17T17:29:58.838937Z",
     "shell.execute_reply": "2023-10-17T17:29:58.837881Z",
     "shell.execute_reply.started": "2023-10-17T17:29:56.805038Z"
    }
   },
   "outputs": [],
   "source": [
    "x = crime_grid_n[index]"
   ]
  },
  {
   "cell_type": "code",
   "execution_count": 15,
   "id": "5ed3bb1b",
   "metadata": {
    "execution": {
     "iopub.execute_input": "2023-10-17T17:29:58.840490Z",
     "iopub.status.busy": "2023-10-17T17:29:58.840180Z",
     "iopub.status.idle": "2023-10-17T17:29:58.845055Z",
     "shell.execute_reply": "2023-10-17T17:29:58.844165Z",
     "shell.execute_reply.started": "2023-10-17T17:29:58.840459Z"
    }
   },
   "outputs": [],
   "source": [
    "X = x[:, :29, :, :, None]\n",
    "y = x[:, 29, :, :, None]"
   ]
  },
  {
   "cell_type": "code",
   "execution_count": 16,
   "id": "1b003238",
   "metadata": {
    "execution": {
     "iopub.execute_input": "2023-10-17T17:29:58.846431Z",
     "iopub.status.busy": "2023-10-17T17:29:58.846185Z",
     "iopub.status.idle": "2023-10-17T17:30:02.195936Z",
     "shell.execute_reply": "2023-10-17T17:30:02.194904Z",
     "shell.execute_reply.started": "2023-10-17T17:29:58.846409Z"
    }
   },
   "outputs": [],
   "source": [
    "from sklearn.model_selection import train_test_split\n",
    "\n",
    "X_train, X_test, y_train, y_test = train_test_split(X, y, test_size=0.2, shuffle=True)"
   ]
  },
  {
   "cell_type": "code",
   "execution_count": 17,
   "id": "de1e6e98",
   "metadata": {
    "execution": {
     "iopub.execute_input": "2023-10-17T17:30:02.197642Z",
     "iopub.status.busy": "2023-10-17T17:30:02.197253Z",
     "iopub.status.idle": "2023-10-17T17:30:02.203435Z",
     "shell.execute_reply": "2023-10-17T17:30:02.202649Z",
     "shell.execute_reply.started": "2023-10-17T17:30:02.197617Z"
    }
   },
   "outputs": [
    {
     "data": {
      "text/plain": [
       "(121, 1)"
      ]
     },
     "execution_count": 17,
     "metadata": {},
     "output_type": "execute_result"
    }
   ],
   "source": [
    "y_train[0][1].shape"
   ]
  },
  {
   "cell_type": "code",
   "execution_count": 18,
   "id": "3d86f203",
   "metadata": {
    "execution": {
     "iopub.execute_input": "2023-10-17T17:30:02.204809Z",
     "iopub.status.busy": "2023-10-17T17:30:02.204547Z",
     "iopub.status.idle": "2023-10-17T17:30:02.217103Z",
     "shell.execute_reply": "2023-10-17T17:30:02.216333Z",
     "shell.execute_reply.started": "2023-10-17T17:30:02.204787Z"
    }
   },
   "outputs": [],
   "source": [
    "# X_train.head()"
   ]
  },
  {
   "cell_type": "code",
   "execution_count": 19,
   "id": "9e79aa7f",
   "metadata": {
    "execution": {
     "iopub.execute_input": "2023-10-17T17:30:02.218195Z",
     "iopub.status.busy": "2023-10-17T17:30:02.217973Z",
     "iopub.status.idle": "2023-10-17T17:30:30.980210Z",
     "shell.execute_reply": "2023-10-17T17:30:30.979137Z",
     "shell.execute_reply.started": "2023-10-17T17:30:02.218175Z"
    }
   },
   "outputs": [
    {
     "name": "stderr",
     "output_type": "stream",
     "text": [
      "D1017 17:30:28.537601972    3132 config.cc:119]                        gRPC EXPERIMENT tcp_frame_size_tuning               OFF (default:OFF)\n",
      "D1017 17:30:28.537636445    3132 config.cc:119]                        gRPC EXPERIMENT tcp_rcv_lowat                       OFF (default:OFF)\n",
      "D1017 17:30:28.537640111    3132 config.cc:119]                        gRPC EXPERIMENT peer_state_based_framing            OFF (default:OFF)\n",
      "D1017 17:30:28.537642729    3132 config.cc:119]                        gRPC EXPERIMENT flow_control_fixes                  ON  (default:ON)\n",
      "D1017 17:30:28.537645257    3132 config.cc:119]                        gRPC EXPERIMENT memory_pressure_controller          OFF (default:OFF)\n",
      "D1017 17:30:28.537647658    3132 config.cc:119]                        gRPC EXPERIMENT unconstrained_max_quota_buffer_size OFF (default:OFF)\n",
      "D1017 17:30:28.537650219    3132 config.cc:119]                        gRPC EXPERIMENT new_hpack_huffman_decoder           ON  (default:ON)\n",
      "D1017 17:30:28.537653557    3132 config.cc:119]                        gRPC EXPERIMENT event_engine_client                 OFF (default:OFF)\n",
      "D1017 17:30:28.537655722    3132 config.cc:119]                        gRPC EXPERIMENT monitoring_experiment               ON  (default:ON)\n",
      "D1017 17:30:28.537658039    3132 config.cc:119]                        gRPC EXPERIMENT promise_based_client_call           OFF (default:OFF)\n",
      "D1017 17:30:28.537660423    3132 config.cc:119]                        gRPC EXPERIMENT free_large_allocator                OFF (default:OFF)\n",
      "D1017 17:30:28.537662716    3132 config.cc:119]                        gRPC EXPERIMENT promise_based_server_call           OFF (default:OFF)\n",
      "D1017 17:30:28.537665363    3132 config.cc:119]                        gRPC EXPERIMENT transport_supplies_client_latency   OFF (default:OFF)\n",
      "D1017 17:30:28.537667487    3132 config.cc:119]                        gRPC EXPERIMENT event_engine_listener               OFF (default:OFF)\n",
      "I1017 17:30:28.537920474    3132 ev_epoll1_linux.cc:122]               grpc epoll fd: 61\n",
      "D1017 17:30:28.537934046    3132 ev_posix.cc:144]                      Using polling engine: epoll1\n",
      "D1017 17:30:28.537959333    3132 dns_resolver_ares.cc:822]             Using ares dns resolver\n",
      "D1017 17:30:28.547187285    3132 lb_policy_registry.cc:46]             registering LB policy factory for \"priority_experimental\"\n",
      "D1017 17:30:28.547201759    3132 lb_policy_registry.cc:46]             registering LB policy factory for \"outlier_detection_experimental\"\n",
      "D1017 17:30:28.547205782    3132 lb_policy_registry.cc:46]             registering LB policy factory for \"weighted_target_experimental\"\n",
      "D1017 17:30:28.547209070    3132 lb_policy_registry.cc:46]             registering LB policy factory for \"pick_first\"\n",
      "D1017 17:30:28.547212453    3132 lb_policy_registry.cc:46]             registering LB policy factory for \"round_robin\"\n",
      "D1017 17:30:28.547215696    3132 lb_policy_registry.cc:46]             registering LB policy factory for \"weighted_round_robin_experimental\"\n",
      "D1017 17:30:28.547224311    3132 lb_policy_registry.cc:46]             registering LB policy factory for \"ring_hash_experimental\"\n",
      "D1017 17:30:28.547246922    3132 lb_policy_registry.cc:46]             registering LB policy factory for \"grpclb\"\n",
      "D1017 17:30:28.547282492    3132 lb_policy_registry.cc:46]             registering LB policy factory for \"rls_experimental\"\n",
      "D1017 17:30:28.547301851    3132 lb_policy_registry.cc:46]             registering LB policy factory for \"xds_cluster_manager_experimental\"\n",
      "D1017 17:30:28.547305603    3132 lb_policy_registry.cc:46]             registering LB policy factory for \"xds_cluster_impl_experimental\"\n",
      "D1017 17:30:28.547308969    3132 lb_policy_registry.cc:46]             registering LB policy factory for \"cds_experimental\"\n",
      "D1017 17:30:28.547316484    3132 lb_policy_registry.cc:46]             registering LB policy factory for \"xds_cluster_resolver_experimental\"\n",
      "D1017 17:30:28.547320190    3132 lb_policy_registry.cc:46]             registering LB policy factory for \"xds_override_host_experimental\"\n",
      "D1017 17:30:28.547323257    3132 lb_policy_registry.cc:46]             registering LB policy factory for \"xds_wrr_locality_experimental\"\n",
      "D1017 17:30:28.547327789    3132 certificate_provider_registry.cc:35]  registering certificate provider factory for \"file_watcher\"\n",
      "I1017 17:30:28.551413973    3132 socket_utils_common_posix.cc:408]     Disabling AF_INET6 sockets because ::1 is not available.\n",
      "I1017 17:30:28.565916932    3345 socket_utils_common_posix.cc:337]     TCP_USER_TIMEOUT is available. TCP_USER_TIMEOUT will be used thereafter\n",
      "E1017 17:30:28.571749857    3345 oauth2_credentials.cc:236]            oauth_fetch: UNKNOWN:C-ares status is not ARES_SUCCESS qtype=A name=metadata.google.internal. is_balancer=0: Domain name not found {grpc_status:2, created_time:\"2023-10-17T17:30:28.571723712+00:00\"}\n"
     ]
    }
   ],
   "source": [
    "import tensorflow as tf"
   ]
  },
  {
   "cell_type": "code",
   "execution_count": 20,
   "id": "35c6ce62",
   "metadata": {
    "execution": {
     "iopub.execute_input": "2023-10-17T17:30:36.147840Z",
     "iopub.status.busy": "2023-10-17T17:30:36.146559Z",
     "iopub.status.idle": "2023-10-17T17:35:59.551938Z",
     "shell.execute_reply": "2023-10-17T17:35:59.550611Z",
     "shell.execute_reply.started": "2023-10-17T17:30:36.147800Z"
    }
   },
   "outputs": [
    {
     "name": "stdout",
     "output_type": "stream",
     "text": [
      "INFO:tensorflow:Deallocate tpu buffers before initializing tpu system.\n",
      "INFO:tensorflow:Initializing the TPU system: local\n",
      "INFO:tensorflow:Finished initializing TPU system.\n"
     ]
    },
    {
     "name": "stderr",
     "output_type": "stream",
     "text": [
      "WARNING:absl:`tf.distribute.experimental.TPUStrategy` is deprecated, please use  the non experimental symbol `tf.distribute.TPUStrategy` instead.\n"
     ]
    },
    {
     "name": "stdout",
     "output_type": "stream",
     "text": [
      "INFO:tensorflow:Found TPU system:\n"
     ]
    },
    {
     "name": "stderr",
     "output_type": "stream",
     "text": [
      "INFO:tensorflow:Found TPU system:\n"
     ]
    },
    {
     "name": "stdout",
     "output_type": "stream",
     "text": [
      "INFO:tensorflow:*** Num TPU Cores: 8\n"
     ]
    },
    {
     "name": "stderr",
     "output_type": "stream",
     "text": [
      "INFO:tensorflow:*** Num TPU Cores: 8\n"
     ]
    },
    {
     "name": "stdout",
     "output_type": "stream",
     "text": [
      "INFO:tensorflow:*** Num TPU Workers: 1\n"
     ]
    },
    {
     "name": "stderr",
     "output_type": "stream",
     "text": [
      "INFO:tensorflow:*** Num TPU Workers: 1\n"
     ]
    },
    {
     "name": "stdout",
     "output_type": "stream",
     "text": [
      "INFO:tensorflow:*** Num TPU Cores Per Worker: 8\n"
     ]
    },
    {
     "name": "stderr",
     "output_type": "stream",
     "text": [
      "INFO:tensorflow:*** Num TPU Cores Per Worker: 8\n"
     ]
    },
    {
     "name": "stdout",
     "output_type": "stream",
     "text": [
      "INFO:tensorflow:*** Available Device: _DeviceAttributes(/job:localhost/replica:0/task:0/device:CPU:0, CPU, 0, 0)\n"
     ]
    },
    {
     "name": "stderr",
     "output_type": "stream",
     "text": [
      "INFO:tensorflow:*** Available Device: _DeviceAttributes(/job:localhost/replica:0/task:0/device:CPU:0, CPU, 0, 0)\n"
     ]
    },
    {
     "name": "stdout",
     "output_type": "stream",
     "text": [
      "INFO:tensorflow:*** Available Device: _DeviceAttributes(/job:localhost/replica:0/task:0/device:TPU:0, TPU, 0, 0)\n"
     ]
    },
    {
     "name": "stderr",
     "output_type": "stream",
     "text": [
      "INFO:tensorflow:*** Available Device: _DeviceAttributes(/job:localhost/replica:0/task:0/device:TPU:0, TPU, 0, 0)\n"
     ]
    },
    {
     "name": "stdout",
     "output_type": "stream",
     "text": [
      "INFO:tensorflow:*** Available Device: _DeviceAttributes(/job:localhost/replica:0/task:0/device:TPU:1, TPU, 0, 0)\n"
     ]
    },
    {
     "name": "stderr",
     "output_type": "stream",
     "text": [
      "INFO:tensorflow:*** Available Device: _DeviceAttributes(/job:localhost/replica:0/task:0/device:TPU:1, TPU, 0, 0)\n"
     ]
    },
    {
     "name": "stdout",
     "output_type": "stream",
     "text": [
      "INFO:tensorflow:*** Available Device: _DeviceAttributes(/job:localhost/replica:0/task:0/device:TPU:2, TPU, 0, 0)\n"
     ]
    },
    {
     "name": "stderr",
     "output_type": "stream",
     "text": [
      "INFO:tensorflow:*** Available Device: _DeviceAttributes(/job:localhost/replica:0/task:0/device:TPU:2, TPU, 0, 0)\n"
     ]
    },
    {
     "name": "stdout",
     "output_type": "stream",
     "text": [
      "INFO:tensorflow:*** Available Device: _DeviceAttributes(/job:localhost/replica:0/task:0/device:TPU:3, TPU, 0, 0)\n"
     ]
    },
    {
     "name": "stderr",
     "output_type": "stream",
     "text": [
      "INFO:tensorflow:*** Available Device: _DeviceAttributes(/job:localhost/replica:0/task:0/device:TPU:3, TPU, 0, 0)\n"
     ]
    },
    {
     "name": "stdout",
     "output_type": "stream",
     "text": [
      "INFO:tensorflow:*** Available Device: _DeviceAttributes(/job:localhost/replica:0/task:0/device:TPU:4, TPU, 0, 0)\n"
     ]
    },
    {
     "name": "stderr",
     "output_type": "stream",
     "text": [
      "INFO:tensorflow:*** Available Device: _DeviceAttributes(/job:localhost/replica:0/task:0/device:TPU:4, TPU, 0, 0)\n"
     ]
    },
    {
     "name": "stdout",
     "output_type": "stream",
     "text": [
      "INFO:tensorflow:*** Available Device: _DeviceAttributes(/job:localhost/replica:0/task:0/device:TPU:5, TPU, 0, 0)\n"
     ]
    },
    {
     "name": "stderr",
     "output_type": "stream",
     "text": [
      "INFO:tensorflow:*** Available Device: _DeviceAttributes(/job:localhost/replica:0/task:0/device:TPU:5, TPU, 0, 0)\n"
     ]
    },
    {
     "name": "stdout",
     "output_type": "stream",
     "text": [
      "INFO:tensorflow:*** Available Device: _DeviceAttributes(/job:localhost/replica:0/task:0/device:TPU:6, TPU, 0, 0)\n"
     ]
    },
    {
     "name": "stderr",
     "output_type": "stream",
     "text": [
      "INFO:tensorflow:*** Available Device: _DeviceAttributes(/job:localhost/replica:0/task:0/device:TPU:6, TPU, 0, 0)\n"
     ]
    },
    {
     "name": "stdout",
     "output_type": "stream",
     "text": [
      "INFO:tensorflow:*** Available Device: _DeviceAttributes(/job:localhost/replica:0/task:0/device:TPU:7, TPU, 0, 0)\n"
     ]
    },
    {
     "name": "stderr",
     "output_type": "stream",
     "text": [
      "INFO:tensorflow:*** Available Device: _DeviceAttributes(/job:localhost/replica:0/task:0/device:TPU:7, TPU, 0, 0)\n"
     ]
    },
    {
     "name": "stdout",
     "output_type": "stream",
     "text": [
      "INFO:tensorflow:*** Available Device: _DeviceAttributes(/job:localhost/replica:0/task:0/device:TPU_SYSTEM:0, TPU_SYSTEM, 0, 0)\n"
     ]
    },
    {
     "name": "stderr",
     "output_type": "stream",
     "text": [
      "INFO:tensorflow:*** Available Device: _DeviceAttributes(/job:localhost/replica:0/task:0/device:TPU_SYSTEM:0, TPU_SYSTEM, 0, 0)\n"
     ]
    },
    {
     "name": "stdout",
     "output_type": "stream",
     "text": [
      "Epoch 1/10\n"
     ]
    },
    {
     "name": "stderr",
     "output_type": "stream",
     "text": [
      "2023-10-17 17:31:02.118496: E tensorflow/core/grappler/optimizers/meta_optimizer.cc:954] model_pruner failed: INVALID_ARGUMENT: Graph does not contain terminal node AssignAddVariableOp.\n",
      "2023-10-17 17:31:02.276610: E tensorflow/core/grappler/optimizers/meta_optimizer.cc:954] model_pruner failed: INVALID_ARGUMENT: Graph does not contain terminal node AssignAddVariableOp.\n"
     ]
    },
    {
     "name": "stdout",
     "output_type": "stream",
     "text": [
      "37/37 [==============================] - ETA: 0s - loss: 0.5281 - accuracy: 0.9260"
     ]
    },
    {
     "name": "stderr",
     "output_type": "stream",
     "text": [
      "2023-10-17 17:31:50.966852: E tensorflow/core/grappler/optimizers/meta_optimizer.cc:954] model_pruner failed: INVALID_ARGUMENT: Graph does not contain terminal node AssignAddVariableOp.\n",
      "2023-10-17 17:31:51.068629: E tensorflow/core/grappler/optimizers/meta_optimizer.cc:954] model_pruner failed: INVALID_ARGUMENT: Graph does not contain terminal node AssignAddVariableOp.\n"
     ]
    },
    {
     "name": "stdout",
     "output_type": "stream",
     "text": [
      "37/37 [==============================] - 63s 1s/step - loss: 0.5281 - accuracy: 0.9260 - val_loss: 0.4264 - val_accuracy: 0.9256\n",
      "Epoch 2/10\n",
      "37/37 [==============================] - 26s 716ms/step - loss: 0.3448 - accuracy: 0.9260 - val_loss: 0.2789 - val_accuracy: 0.9256\n",
      "Epoch 3/10\n",
      "37/37 [==============================] - 26s 711ms/step - loss: 0.2511 - accuracy: 0.9260 - val_loss: 0.2333 - val_accuracy: 0.9256\n",
      "Epoch 4/10\n",
      "37/37 [==============================] - 26s 712ms/step - loss: 0.2240 - accuracy: 0.9260 - val_loss: 0.2179 - val_accuracy: 0.9256\n",
      "Epoch 5/10\n",
      "37/37 [==============================] - 26s 717ms/step - loss: 0.2123 - accuracy: 0.9260 - val_loss: 0.2078 - val_accuracy: 0.9256\n",
      "Epoch 6/10\n",
      "37/37 [==============================] - 26s 714ms/step - loss: 0.2024 - accuracy: 0.9263 - val_loss: 0.1981 - val_accuracy: 0.9266\n",
      "Epoch 7/10\n",
      "37/37 [==============================] - 26s 714ms/step - loss: 0.1929 - accuracy: 0.9283 - val_loss: 0.1887 - val_accuracy: 0.9292\n",
      "Epoch 8/10\n",
      "37/37 [==============================] - 26s 713ms/step - loss: 0.1840 - accuracy: 0.9306 - val_loss: 0.1802 - val_accuracy: 0.9311\n",
      "Epoch 9/10\n",
      "37/37 [==============================] - 26s 713ms/step - loss: 0.1761 - accuracy: 0.9320 - val_loss: 0.1731 - val_accuracy: 0.9320\n",
      "Epoch 10/10\n",
      "37/37 [==============================] - 26s 716ms/step - loss: 0.1703 - accuracy: 0.9323 - val_loss: 0.1680 - val_accuracy: 0.9319\n"
     ]
    }
   ],
   "source": [
    "#import tensorflow as tf\n",
    "\n",
    "\n",
    "# detect and init the TPU\n",
    "tpu = tf.distribute.cluster_resolver.TPUClusterResolver.connect()\n",
    "\n",
    "# instantiate a distribution strategy\n",
    "tpu_strategy = tf.distribute.experimental.TPUStrategy(tpu)\n",
    "\n",
    "from tensorflow.keras.models import Sequential\n",
    "from tensorflow.keras.layers import ConvLSTM2D\n",
    "from tensorflow.keras.callbacks import ModelCheckpoint\n",
    "from tensorflow.keras.models import Model\n",
    "from tensorflow.keras.optimizers import Adam\n",
    "\n",
    "from tensorflow.keras.callbacks import EarlyStopping\n",
    "es = EarlyStopping(monitor='loss', patience=2)\n",
    "\n",
    "\n",
    "Callbacks = callbacks = [es]\n",
    "\n",
    "\n",
    "# instantiating the model in the strategy scope creates the model on the TPU\n",
    "with tpu_strategy.scope():\n",
    "    model = Sequential()\n",
    "    model.add(ConvLSTM2D(1, kernel_size=(3, 3), activation='tanh',\n",
    "                        return_sequences=False,\n",
    "                        padding='same',\n",
    "                        data_format='channels_last'))\n",
    "\n",
    "    model.compile(optimizer=Adam(),\n",
    "              loss='binary_crossentropy',  \n",
    "              metrics=['accuracy'])\n",
    "    \n",
    "    model.fit(X_train, y_train,\n",
    "          batch_size=120,\n",
    "          epochs=10,\n",
    "          validation_data=(X_test, y_test),\n",
    "          shuffle=True,\n",
    "          callbacks=Callbacks)"
   ]
  },
  {
   "cell_type": "code",
   "execution_count": null,
   "id": "74d39d33",
   "metadata": {},
   "outputs": [],
   "source": [
    "model.summary()"
   ]
  },
  {
   "cell_type": "code",
   "execution_count": 21,
   "id": "b3f70f5c",
   "metadata": {
    "execution": {
     "iopub.execute_input": "2023-10-17T17:36:11.127044Z",
     "iopub.status.busy": "2023-10-17T17:36:11.126608Z",
     "iopub.status.idle": "2023-10-17T17:36:27.176818Z",
     "shell.execute_reply": "2023-10-17T17:36:27.175836Z",
     "shell.execute_reply.started": "2023-10-17T17:36:11.127011Z"
    }
   },
   "outputs": [
    {
     "name": "stdout",
     "output_type": "stream",
     "text": [
      "35/35 [==============================] - 12s 234ms/step - loss: 0.1680 - accuracy: 0.9319\n",
      "Test loss: 0.16803078353405\n",
      "Test accuracy: 0.9319332838058472\n"
     ]
    }
   ],
   "source": [
    "scores = model.evaluate(X_test, y_test, verbose=1)\n",
    "print('Test loss:', scores[0])\n",
    "print('Test accuracy:', scores[1])"
   ]
  },
  {
   "cell_type": "code",
   "execution_count": 23,
   "id": "455ed2ed",
   "metadata": {
    "execution": {
     "iopub.execute_input": "2023-10-17T17:36:48.586906Z",
     "iopub.status.busy": "2023-10-17T17:36:48.585671Z",
     "iopub.status.idle": "2023-10-17T17:36:54.363245Z",
     "shell.execute_reply": "2023-10-17T17:36:54.362007Z",
     "shell.execute_reply.started": "2023-10-17T17:36:48.586871Z"
    }
   },
   "outputs": [
    {
     "name": "stdout",
     "output_type": "stream",
     "text": [
      "Collecting seaborn\n",
      "  Downloading seaborn-0.13.0-py3-none-any.whl (294 kB)\n",
      "\u001b[2K     \u001b[90m━━━━━━━━━━━━━━━━━━━━━━━━━━━━━━━━━━━━━━━\u001b[0m \u001b[32m294.6/294.6 kB\u001b[0m \u001b[31m5.8 MB/s\u001b[0m eta \u001b[36m0:00:00\u001b[0ma \u001b[36m0:00:01\u001b[0m\n",
      "\u001b[?25hRequirement already satisfied: numpy!=1.24.0,>=1.20 in /usr/local/lib/python3.8/site-packages (from seaborn) (1.23.5)\n",
      "Requirement already satisfied: matplotlib!=3.6.1,>=3.3 in /usr/local/lib/python3.8/site-packages (from seaborn) (3.7.2)\n",
      "Requirement already satisfied: pandas>=1.2 in /usr/local/lib/python3.8/site-packages (from seaborn) (2.0.3)\n",
      "Requirement already satisfied: importlib-resources>=3.2.0 in /usr/local/lib/python3.8/site-packages (from matplotlib!=3.6.1,>=3.3->seaborn) (6.0.0)\n",
      "Requirement already satisfied: python-dateutil>=2.7 in /usr/local/lib/python3.8/site-packages (from matplotlib!=3.6.1,>=3.3->seaborn) (2.8.2)\n",
      "Requirement already satisfied: packaging>=20.0 in /usr/local/lib/python3.8/site-packages (from matplotlib!=3.6.1,>=3.3->seaborn) (23.1)\n",
      "Requirement already satisfied: pyparsing<3.1,>=2.3.1 in /usr/local/lib/python3.8/site-packages (from matplotlib!=3.6.1,>=3.3->seaborn) (3.0.9)\n",
      "Requirement already satisfied: contourpy>=1.0.1 in /usr/local/lib/python3.8/site-packages (from matplotlib!=3.6.1,>=3.3->seaborn) (1.1.0)\n",
      "Requirement already satisfied: cycler>=0.10 in /usr/local/lib/python3.8/site-packages (from matplotlib!=3.6.1,>=3.3->seaborn) (0.11.0)\n",
      "Requirement already satisfied: pillow>=6.2.0 in /usr/local/lib/python3.8/site-packages (from matplotlib!=3.6.1,>=3.3->seaborn) (10.0.0)\n",
      "Requirement already satisfied: fonttools>=4.22.0 in /usr/local/lib/python3.8/site-packages (from matplotlib!=3.6.1,>=3.3->seaborn) (4.40.0)\n",
      "Requirement already satisfied: kiwisolver>=1.0.1 in /usr/local/lib/python3.8/site-packages (from matplotlib!=3.6.1,>=3.3->seaborn) (1.4.4)\n",
      "Requirement already satisfied: pytz>=2020.1 in /usr/local/lib/python3.8/site-packages (from pandas>=1.2->seaborn) (2023.3)\n",
      "Requirement already satisfied: tzdata>=2022.1 in /usr/local/lib/python3.8/site-packages (from pandas>=1.2->seaborn) (2023.3)\n",
      "Requirement already satisfied: zipp>=3.1.0 in /usr/local/lib/python3.8/site-packages (from importlib-resources>=3.2.0->matplotlib!=3.6.1,>=3.3->seaborn) (3.15.0)\n",
      "Requirement already satisfied: six>=1.5 in /usr/local/lib/python3.8/site-packages (from python-dateutil>=2.7->matplotlib!=3.6.1,>=3.3->seaborn) (1.16.0)\n",
      "Installing collected packages: seaborn\n",
      "Successfully installed seaborn-0.13.0\n",
      "\u001b[33mWARNING: Running pip as the 'root' user can result in broken permissions and conflicting behaviour with the system package manager. It is recommended to use a virtual environment instead: https://pip.pypa.io/warnings/venv\u001b[0m\u001b[33m\n",
      "\u001b[0m\n",
      "\u001b[1m[\u001b[0m\u001b[34;49mnotice\u001b[0m\u001b[1;39;49m]\u001b[0m\u001b[39;49m A new release of pip is available: \u001b[0m\u001b[31;49m23.0.1\u001b[0m\u001b[39;49m -> \u001b[0m\u001b[32;49m23.3\u001b[0m\n",
      "\u001b[1m[\u001b[0m\u001b[34;49mnotice\u001b[0m\u001b[1;39;49m]\u001b[0m\u001b[39;49m To update, run: \u001b[0m\u001b[32;49mpip install --upgrade pip\u001b[0m\n"
     ]
    }
   ],
   "source": [
    "!pip install seaborn"
   ]
  },
  {
   "cell_type": "code",
   "execution_count": 24,
   "id": "d887c598",
   "metadata": {
    "execution": {
     "iopub.execute_input": "2023-10-17T17:36:59.020204Z",
     "iopub.status.busy": "2023-10-17T17:36:59.019735Z",
     "iopub.status.idle": "2023-10-17T17:37:03.907931Z",
     "shell.execute_reply": "2023-10-17T17:37:03.906968Z",
     "shell.execute_reply.started": "2023-10-17T17:36:59.020167Z"
    }
   },
   "outputs": [
    {
     "name": "stderr",
     "output_type": "stream",
     "text": [
      "2023-10-17 17:37:00.137882: E tensorflow/core/grappler/optimizers/meta_optimizer.cc:954] model_pruner failed: INVALID_ARGUMENT: Graph does not contain terminal node AssignAddVariableOp.\n",
      "2023-10-17 17:37:00.209040: E tensorflow/core/grappler/optimizers/meta_optimizer.cc:954] model_pruner failed: INVALID_ARGUMENT: Graph does not contain terminal node AssignAddVariableOp.\n"
     ]
    },
    {
     "name": "stdout",
     "output_type": "stream",
     "text": [
      "1/1 [==============================] - 4s 4s/step\n"
     ]
    },
    {
     "data": {
      "text/plain": [
       "<matplotlib.image.AxesImage at 0x7ec299b73b20>"
      ]
     },
     "execution_count": 24,
     "metadata": {},
     "output_type": "execute_result"
    },
    {
     "data": {
      "image/png": "[encoded data removed]",
      "text/plain": [
       "<Figure size 640x480 with 1 Axes>"
      ]
     },
     "metadata": {},
     "output_type": "display_data"
    }
   ],
   "source": [
    "import matplotlib.pyplot as plt\n",
    "import seaborn as sns\n",
    "\n",
    "r = y_test[0][:,:,0]\n",
    "p = np.round(model.predict(X_test[:2]), decimals=0)[0][:, :, 0]\n",
    "\n",
    "plt.imshow(r)"
   ]
  },
  {
   "cell_type": "code",
   "execution_count": 25,
   "id": "e7837a9a",
   "metadata": {
    "execution": {
     "iopub.execute_input": "2023-10-17T17:37:07.970048Z",
     "iopub.status.busy": "2023-10-17T17:37:07.968698Z",
     "iopub.status.idle": "2023-10-17T17:37:09.437138Z",
     "shell.execute_reply": "2023-10-17T17:37:09.436024Z",
     "shell.execute_reply.started": "2023-10-17T17:37:07.970009Z"
    }
   },
   "outputs": [
    {
     "data": {
      "text/plain": [
       "<matplotlib.image.AxesImage at 0x7ec29a8606d0>"
      ]
     },
     "execution_count": 25,
     "metadata": {},
     "output_type": "execute_result"
    },
    {
     "data": {
      "image/png": "[encoded data removed]",
      "text/plain": [
       "<Figure size 640x480 with 1 Axes>"
      ]
     },
     "metadata": {},
     "output_type": "display_data"
    }
   ],
   "source": [
    "plt.imshow(p)"
   ]
  }
 ],
 "metadata": {
  "kernelspec": {
   "display_name": "Python 3 (ipykernel)",
   "language": "python",
   "name": "python3"
  },
  "language_info": {
   "codemirror_mode": {
    "name": "ipython",
    "version": 3
   },
   "file_extension": ".py",
   "mimetype": "text/x-python",
   "name": "python",
   "nbconvert_exporter": "python",
   "pygments_lexer": "ipython3",
   "version": "3.9.7"
  }
 },
 "nbformat": 4,
 "nbformat_minor": 5
}
